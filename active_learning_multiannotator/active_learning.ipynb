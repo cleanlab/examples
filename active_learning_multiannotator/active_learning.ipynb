{
 "cells": [
  {
   "cell_type": "markdown",
   "metadata": {},
   "source": [
    "# Active Learning with Multiple Data Annotators via CROWDLAB"
   ]
  },
  {
   "cell_type": "markdown",
   "metadata": {},
   "source": [
    "[![Open In Colab](https://colab.research.google.com/assets/colab-badge.svg)](https://colab.research.google.com/github/cleanlab/examples/blob/master/active_learning_multiannotator/active_learning.ipynb)"
   ]
  },
  {
   "cell_type": "markdown",
   "metadata": {},
   "source": [
    "This notebook demonstrates a practical approach to active learning for training classification models with cleanlab. In active learning, we aim to construct a labeled dataset by collecting the fewest labels that still allow us to train an accurate classifier model. Here we assume data labeling is done in **batches**, and between these data labeling rounds, we retrain our classifier and combine it with CROWDLAB to decide what examples (i.e. datapoints) to label next round. We assume there are **multiple** annotators to label the data, but since their labels are not necessarily perfect, we sometimes wish to ask a new annotator to provide an extra label for a previously labeled example. This active learning with multiple annotators setup is more widely applicable than academic studies which only consider labeling one example in each round or being limited to a single (noise-free) annotation per example.\n",
    "\n",
    "cleanlab provides two useful estimates for multi-annotator active learning: (1) an active learning score quantifying how desirable it is to collect an additional label for every possible example, (2) accurate consensus labels for the previously labeled examples  that can be used for classifier model training.\n",
    "\n",
    "This notebook demonstrates how to compute these easily for use in sequential active learning, showing how a classification model iteratively improves after (re)labeling examples for multiple rounds. Some examples in the dataset will have been labeled by multiple annotators, and not all examples have to have been labeled at the beginning. cleanlab's active learning score indicates if you should collect more labels for an already-labeled example (thus having a larger number of annotators label a potentially difficult example), or get a label for a potentially informative example that has not yet been labeled.\n",
    "\n",
    "This notebook implements the following steps:\n",
    "\n",
    "1. Establish consensus labels (for the already labeled data). Use them to train a classifier model and then obtain out-of-sample predicted probabilities for each example.\n",
    "2. Compute active learning scores for every example, which estimate our current confidence in knowing its true label.\n",
    "3. Collect additional labels for the examples with the lowest active learning scores. These are the most potentially informative examples whose true label we are least certain of. \n",
    "4. Repeat the steps above to collect as many labels as your budget permits.\n",
    "\n",
    "The accuracy of the model trained on the resulting dataset will generally match that of the same model trained on a much larger set of randomly collected labels. I.e. this is the most cost-effective way to train an accurate classifier!\n",
    "\n",
    "In this example we use a modified version of the [Wall-Following Robot Navigation](https://www.openml.org/search?type=data&sort=runs&status=any&qualities.NumberOfClasses=gte_2&qualities.NumberOfInstances=between_1000_10000&id=1526) dataset, with multiple data annotators who each provide noisy labels."
   ]
  },
  {
   "cell_type": "markdown",
   "metadata": {},
   "source": [
    "## Import dependencies and get data"
   ]
  },
  {
   "cell_type": "markdown",
   "metadata": {},
   "source": [
    "Please install the dependencies specified in this [requirements.txt](https://github.com/cleanlab/examples/blob/master/active_learning_multiannotator/requirements.txt) file before running the notebook.  "
   ]
  },
  {
   "cell_type": "code",
   "execution_count": 1,
   "metadata": {},
   "outputs": [],
   "source": [
    "import numpy as np\n",
    "import pandas as pd\n",
    "from sklearn.ensemble import ExtraTreesClassifier\n",
    "import matplotlib.pyplot as plt\n",
    "\n",
    "from cleanlab.multiannotator import get_majority_vote_label, get_label_quality_multiannotator, get_active_learning_scores\n",
    "\n",
    "from utils.model_training import fit_predict_proba\n",
    "from utils.active_learning import setup_next_iter_data, add_new_annotator"
   ]
  },
  {
   "cell_type": "code",
   "execution_count": 2,
   "metadata": {},
   "outputs": [
    {
     "name": "stdout",
     "output_type": "stream",
     "text": [
      "--2023-01-18 00:11:40--  https://cleanlab-public.s3.amazonaws.com/ActiveLearning/WallRobot/data.tar.gz\n",
      "Resolving cleanlab-public.s3.amazonaws.com (cleanlab-public.s3.amazonaws.com)... 52.217.202.185, 52.216.106.124, 52.216.81.224, ...\n",
      "Connecting to cleanlab-public.s3.amazonaws.com (cleanlab-public.s3.amazonaws.com)|52.217.202.185|:443... connected.\n",
      "HTTP request sent, awaiting response... 200 OK\n",
      "Length: 63814 (62K) [application/x-gzip]\n",
      "Saving to: ‘data.tar.gz’\n",
      "\n",
      "data.tar.gz         100%[===================>]  62.32K  --.-KB/s    in 0.02s   \n",
      "\n",
      "2023-01-18 00:11:40 (2.55 MB/s) - ‘data.tar.gz’ saved [63814/63814]\n",
      "\n"
     ]
    }
   ],
   "source": [
    "!wget -nc 'https://cleanlab-public.s3.amazonaws.com/ActiveLearning/WallRobot/data.tar.gz'\n",
    "!tar -xf data.tar.gz data/"
   ]
  },
  {
   "cell_type": "markdown",
   "metadata": {},
   "source": [
    "We load the following datafiles:\n",
    "\n",
    "- `multiannotator_labels` is a DataFrame that contains labels from multiple annotators for each example (different number of annotations per example)\n",
    "- `X_labeled` are the features for the examples that have been labeled by at least one annotator\n",
    "- `X_unlabeled` are the features for the examples that have not yet been labeled by any annotator\n",
    "\n",
    "Additionally, we load some extra files for demo purposes, which will probably not be available in your application:\n",
    "\n",
    "- `extra_labels_labeled` and `extra_labels_unlabeled` are sampled from when we get ask annotators to provide additional labels later in this notebook\n",
    "- `X_test` and `true_labels_test` are used to measure the current model's predictive accuracy in each round of multi-annotator active learning"
   ]
  },
  {
   "cell_type": "code",
   "execution_count": 3,
   "metadata": {},
   "outputs": [],
   "source": [
    "multiannotator_labels = pd.DataFrame(np.load(\"data/multiannotator_labels_labeled.npy\"))\n",
    "\n",
    "X_labeled = np.load(\"data/X_labeled.npy\")\n",
    "X_unlabeled = np.load(\"data/X_unlabeled.npy\")\n",
    "\n",
    "extra_labels_labeled = np.load(\"data/extra_labels_labeled.npy\")\n",
    "extra_labels_unlabeled = np.load(\"data/extra_labels_unlabeled.npy\")\n",
    "\n",
    "X_test = np.load(\"data/X_test.npy\")\n",
    "true_labels_test = np.load(\"data/true_labels_test.npy\")\n"
   ]
  },
  {
   "cell_type": "markdown",
   "metadata": {},
   "source": [
    "## Train model to obtain predicted probabilites\n",
    "\n",
    "First, we train our model on a set of consensus labels obtained using majority vote to get the out-of-sample predicted class probabilities for both the labeled and unlabeled data. \n",
    "\n",
    "The function will return two sets of predicted probabilites, `pred_probs_labeled` are the predicted probabilites for examples that have existing annotator labels (they correspond directly with the features `X_labeled`), whereas `active_learning_scores_unlabeled` are the predicted probabilites for examples that do not have any annotator labels (they correspond directly with the features `X_unlabeled`). These predicted probabilities will later be used to compute the active learning score.\n",
    "\n",
    "If working with your own dataset, you should consider modifying this `fit_predict_proba` function so that it is better fitted for training your specific dataset."
   ]
  },
  {
   "cell_type": "code",
   "execution_count": 4,
   "metadata": {},
   "outputs": [
    {
     "name": "stderr",
     "output_type": "stream",
     "text": [
      "/home/ubuntu/.local/lib/python3.8/site-packages/tqdm/auto.py:22: TqdmWarning: IProgress not found. Please update jupyter and ipywidgets. See https://ipywidgets.readthedocs.io/en/stable/user_install.html\n",
      "  from .autonotebook import tqdm as notebook_tqdm\n"
     ]
    }
   ],
   "source": [
    "# get current consensus labels\n",
    "consensus_labels = get_majority_vote_label(multiannotator_labels)\n",
    "\n",
    "# train model to get out-of-sample predicted probabilies for both labels and unlabeled data\n",
    "pred_probs_labeled, pred_probs_unlabeled = fit_predict_proba(\n",
    "    ExtraTreesClassifier(),\n",
    "    X_labeled,\n",
    "    consensus_labels,\n",
    "    cv_n_folds=5,\n",
    "    X_unlabeled=X_unlabeled,\n",
    ")\n"
   ]
  },
  {
   "cell_type": "markdown",
   "metadata": {},
   "source": [
    "## Obtain active learning scores"
   ]
  },
  {
   "cell_type": "markdown",
   "metadata": {},
   "source": [
    "Next, we will get the active learning scores for each datapoint (both labeled and unlabeled) by using a combination of the annotators' agremeent and model confidence. These scores represent how confident we are about an example's true label based on the currently obtained annotations; examples with the lowest scores are those for which additional labels should be collected (i.e. likely the most informative). These scores are estimated via an **Active CROWDLAB** algorithm developed by the Cleanlab team, and may sometimes prioritize an already-labeled example over an unlabeled example if the annotations for the labeled example are deemed unreliable (Active CROWDLAB appropriately estimates the value of collecting new annotations for unlabeled data vs already-labeled data). \n",
    "\n",
    "Similar to above, `active_learning_scores` represents the scores for examples with existing annotator labels, and `active_learning_scores_unlabeled` represents the scores for examples with no annotator labels."
   ]
  },
  {
   "cell_type": "code",
   "execution_count": 5,
   "metadata": {},
   "outputs": [],
   "source": [
    "active_learning_scores, active_learning_scores_unlabeled = get_active_learning_scores(\n",
    "    multiannotator_labels, pred_probs_labeled, pred_probs_unlabeled\n",
    ")"
   ]
  },
  {
   "cell_type": "code",
   "execution_count": 6,
   "metadata": {},
   "outputs": [
    {
     "data": {
      "text/plain": [
       "array([0.36361776, 0.52083518, 0.47410355, 0.40357797, 0.44995446])"
      ]
     },
     "execution_count": 6,
     "metadata": {},
     "output_type": "execute_result"
    }
   ],
   "source": [
    "# sample of active learning scores\n",
    "active_learning_scores[:5]"
   ]
  },
  {
   "cell_type": "markdown",
   "metadata": {},
   "source": [
    "## Get index to relabel"
   ]
  },
  {
   "cell_type": "markdown",
   "metadata": {},
   "source": [
    "Lastly, we can ranks the examples by their active learning scores, and obtain the index of the examples with the lowest scores; these are the least confident examples which we will want to collect more labels for.\n",
    "\n",
    "The code cell below shows how to combine the labeled and unlabeled examples before ranking them and obtaining their respective indices to collect more labels."
   ]
  },
  {
   "cell_type": "code",
   "execution_count": 13,
   "metadata": {},
   "outputs": [],
   "source": [
    "batch_size_to_label = 100 # you can pick how many examples to collect more labels for at each round\n",
    "\n",
    "num_labeled = len(active_learning_scores)\n",
    "active_learning_scores_combined = np.concatenate((active_learning_scores, active_learning_scores_unlabeled))\n",
    "\n",
    "to_label_idx_combined = np.argsort(active_learning_scores_combined)[:batch_size_to_label]\n",
    "to_label_idx_labeled = to_label_idx_combined[to_label_idx_combined < num_labeled]\n",
    "to_label_idx_unlabeled = (to_label_idx_combined[to_label_idx_combined >= num_labeled] - num_labeled)"
   ]
  },
  {
   "cell_type": "code",
   "execution_count": 14,
   "metadata": {},
   "outputs": [
    {
     "data": {
      "text/plain": [
       "array([311, 269])"
      ]
     },
     "execution_count": 14,
     "metadata": {},
     "output_type": "execute_result"
    }
   ],
   "source": [
    "# sample of indices to collect more labels for\n",
    "to_label_idx_labeled"
   ]
  },
  {
   "cell_type": "markdown",
   "metadata": {},
   "source": [
    "> ### Bringing Your Own Data (BYOD)?\n",
    "> \n",
    "> You can easily replace the above with your own dataset, and obtain the active learning scores and indices to collect more labels for using the code above.\n",
    "> \n",
    "> `multiannotator_labels` should be a numpy array of pandas DataFrame where each column represents an annotator and each row represents an examples. The classes should be ingeters from 0 to num_classes - 1, where examples that were not labeled by a particular annotator are represented using `np.nan`. `multiannotator_labels` should also only contain the examples that have been labeled by at least one annotator (no row should consist of only `np.nan` values).\n",
    "> \n",
    "> `X_labeled` and `X_unlabeled` should be numpy arrays that have the same number of columns. However, if you do not have any unlabeled examples, you can also pass an empty array of `None` as the value of `X_unlabeled`.\n"
   ]
  },
  {
   "cell_type": "markdown",
   "metadata": {},
   "source": [
    "## Improving model accuracy over 15 rounds of multi-annotator active learning (collecting new labels) \n",
    "\n",
    "The code below shows a full demonstration of how we can repeatedly use the functions demonstrated above for multiple rounds in order to select which examples to collect new labels for, ask annotators to provide these new labels (via a noisy simulation in this example), and use the newly collected labels to get improved consensus labels used to train an improved classification model.\n",
    "\n",
    "This demonstration runs this multi-annotator active learning loop for 15 rounds, choosing 100 examples to collect more labels for each round. Each round, we use the consensus labels of each labeled example to train a classifier (here we used an `ExtraTrees` classifier) and obtain out-of-sample predicted probabilites, which is then used to compute the active learning scores for every example. We then synthetically collect new labels (this process is meant to simulate getting a new annotator to annotated a selection of examples) and repeat the active learning loop. \n",
    "\n",
    "For the first round of training, we obtain consensus labels using majority vote as we do not have any predicted probabilites yet. However for subsequent rounds we can leverage the predicted probabilites for each example obtained from the previous round to use cleanlab's [CROWDLAB algorithm](https://docs.cleanlab.ai/stable/tutorials/multiannotator.html) to obtain higher quality consensus labels for the model.\n",
    "\n",
    "[Optional step] We also measure the model performance on a test set each round to demonstrate the improvement of the model."
   ]
  },
  {
   "cell_type": "code",
   "execution_count": 15,
   "metadata": {},
   "outputs": [],
   "source": [
    "num_rounds = 15\n",
    "batch_size_to_label = 100"
   ]
  },
  {
   "cell_type": "code",
   "execution_count": 16,
   "metadata": {},
   "outputs": [],
   "source": [
    "# function to get indices of examples with the lowest active learning score to collect more labels for\n",
    "def get_idx_to_label(\n",
    "    active_learning_scores,\n",
    "    batch_size_to_label,\n",
    "    active_learning_scores_unlabeled=None,\n",
    "):\n",
    "    if active_learning_scores_unlabeled is None:\n",
    "        active_learning_scores_unlabeled = np.array([])\n",
    "\n",
    "    num_labeled = len(active_learning_scores)\n",
    "    active_learning_scores_combined = np.concatenate((active_learning_scores, active_learning_scores_unlabeled))\n",
    "\n",
    "    if batch_size_to_label > len(active_learning_scores_combined):\n",
    "        raise ValueError(\"num_examples_to_relabel is larger than the total number of examples available\")\n",
    "\n",
    "    to_label_idx_combined = np.argsort(active_learning_scores_combined)[:batch_size_to_label]\n",
    "    to_label_idx = to_label_idx_combined[to_label_idx_combined < num_labeled]\n",
    "    to_label_idx_unlabeled = (to_label_idx_combined[to_label_idx_combined >= num_labeled] - num_labeled)\n",
    "\n",
    "    return to_label_idx, to_label_idx_unlabeled"
   ]
  },
  {
   "cell_type": "code",
   "execution_count": 17,
   "metadata": {},
   "outputs": [],
   "source": [
    "model_accuacy_arr = np.full(num_rounds, np.nan)\n",
    "\n",
    "for i in range(num_rounds):\n",
    "    # get consensus labels\n",
    "    if i == 0:\n",
    "        consensus_labels = get_majority_vote_label(multiannotator_labels)\n",
    "    else:\n",
    "        # we can use the pred_probs from last round as the best model estimate\n",
    "        results = get_label_quality_multiannotator(\n",
    "            multiannotator_labels, \n",
    "            pred_probs_labeled,\n",
    "            calibrate_probs=True,\n",
    "        )\n",
    "        consensus_labels = results[\"label_quality\"][\"consensus_label\"]\n",
    "\n",
    "    # train model to get out-of-sample predicted probabilites \n",
    "    pred_probs, pred_probs_unlabeled = fit_predict_proba(\n",
    "        ExtraTreesClassifier(),\n",
    "        X_labeled,\n",
    "        consensus_labels,\n",
    "        cv_n_folds=5,\n",
    "        X_unlabeled=X_unlabeled,\n",
    "    )\n",
    "\n",
    "    # train a model on the full set of labeled data to evaluate model accuracy for the current round,\n",
    "    # this is an optional step for demonstration purposes, in practical applications \n",
    "    # you may not have ground truth labels\n",
    "    model = ExtraTreesClassifier()\n",
    "    model.fit(X_labeled, consensus_labels)\n",
    "    pred_labels = model.predict(X_test)\n",
    "    model_accuacy_arr[i] = np.mean(pred_labels == true_labels_test)\n",
    "\n",
    "    # compute active learning scores\n",
    "    active_learning_scores, active_learning_scores_unlabeled = get_active_learning_scores(\n",
    "        multiannotator_labels, pred_probs, pred_probs_unlabeled\n",
    "    )\n",
    "\n",
    "    # get the indices of examples to collect more labels for\n",
    "    relabel_idx, relabel_idx_unlabeled = get_idx_to_label(\n",
    "        active_learning_scores=active_learning_scores,\n",
    "        active_learning_scores_unlabeled=active_learning_scores_unlabeled,\n",
    "        batch_size_to_label=batch_size_to_label,\n",
    "    )\n",
    "\n",
    "    # format the data for the next round of active learning, ie. moving some unlabeled \n",
    "    # examples to the labeled pool because we are collecting labels for them\n",
    "    (\n",
    "        multiannotator_labels, relabel_idx_combined, X_labeled, X_unlabeled, pred_probs_labeled, \n",
    "        pred_probs_unlabeled, extra_labels_labeled, extra_labels_unlabeled,\n",
    "    ) = setup_next_iter_data(\n",
    "        multiannotator_labels, relabel_idx, relabel_idx_unlabeled, X_labeled, X_unlabeled, pred_probs, \n",
    "        pred_probs_unlabeled, extra_labels_labeled, extra_labels_unlabeled,\n",
    "    )\n",
    "\n",
    "    # add a new annotator that provides new labels for the examples with the lowest\n",
    "    # active learning scores (indices obtained above)\n",
    "    multiannotator_labels = add_new_annotator(\n",
    "        multiannotator_labels, extra_labels_labeled, relabel_idx_combined\n",
    "    )"
   ]
  },
  {
   "cell_type": "markdown",
   "metadata": {},
   "source": [
    "Note that in the final step of the active learning loop above, we add one new annotator that annotates all the examples identified with the lowest active learning scores. However, it is not required that these examples be labeled by one new annotator (it is just done this way here for simplicity). These examples could instead be labeled by multiple new annotators, or multiple existing annotators, or any other combination. "
   ]
  },
  {
   "cell_type": "markdown",
   "metadata": {},
   "source": [
    "## Evaluate results"
   ]
  },
  {
   "cell_type": "code",
   "execution_count": 18,
   "metadata": {},
   "outputs": [
    {
     "name": "stdout",
     "output_type": "stream",
     "text": [
      "Initial model test accuracy: 0.897\n",
      "Final model test accuracy (after 15 rounds of active learning): 0.938\n"
     ]
    }
   ],
   "source": [
    "print(f\"Initial model test accuracy: {model_accuacy_arr[0]:.3}\")\n",
    "print(f\"Final model test accuracy (after 15 rounds of active learning): {model_accuacy_arr[-1]:.3}\")"
   ]
  },
  {
   "cell_type": "code",
   "execution_count": 19,
   "metadata": {},
   "outputs": [
    {
     "data": {
      "image/png": "[encoded data removed]",
      "text/plain": [
       "<Figure size 640x480 with 1 Axes>"
      ]
     },
     "metadata": {},
     "output_type": "display_data"
    }
   ],
   "source": [
    "plt.plot(model_accuacy_arr)\n",
    "plt.xticks(range(num_rounds))\n",
    "plt.xlabel(\"Round\")\n",
    "plt.ylabel(\"Model Accuracy\")\n",
    "plt.show()"
   ]
  },
  {
   "cell_type": "markdown",
   "metadata": {},
   "source": [
    "From the plot above, we can see that the model accuracy increases steadily with each additional round of collecting more labels, getting improved consensus labels, and model training."
   ]
  },
  {
   "cell_type": "markdown",
   "metadata": {},
   "source": [
    "## Other useful multiannotator statistics"
   ]
  },
  {
   "cell_type": "markdown",
   "metadata": {},
   "source": [
    "After conducting multiple rounds of multi-annotator active learning, you can also estimate various statistics from the labeled data such as the higher quality [CROWDLAB consensus label](https://arxiv.org/abs/2210.06812) for each example, consensus label quality scores that quantify how likely each consensus label is correct, and annotator quality scores that quantify how noisy each annotator's labels are overall. \n",
    "\n",
    "Below we show how to obtain this information using the annotators' labels and the model's predicted class probabilites. Check out cleanlab's [multiannotator module](https://docs.cleanlab.ai/stable/tutorials/multiannotator.html) for details!"
   ]
  },
  {
   "cell_type": "markdown",
   "metadata": {},
   "source": [
    "Using the annotator labels and predicted probabilites to get the consensus labels and other statistics:"
   ]
  },
  {
   "cell_type": "code",
   "execution_count": null,
   "metadata": {},
   "outputs": [],
   "source": [
    "multiannotator_results = get_label_quality_multiannotator(multiannotator_labels, pred_probs_labeled)"
   ]
  },
  {
   "cell_type": "markdown",
   "metadata": {},
   "source": [
    "Each row of the `label_quality` dataframe corresponds to an example, here you can get the CROWDLAB consensus label and its quality score:"
   ]
  },
  {
   "cell_type": "code",
   "execution_count": null,
   "metadata": {},
   "outputs": [],
   "source": [
    "multiannotator_results[\"label_quality\"].head()"
   ]
  },
  {
   "cell_type": "markdown",
   "metadata": {},
   "source": [
    "Each row of the `annotator_stats` dataframe corresponds to an annotator, here you can get their annotator quality and other information about the annotators:"
   ]
  },
  {
   "cell_type": "code",
   "execution_count": null,
   "metadata": {},
   "outputs": [],
   "source": [
    "multiannotator_results[\"annotator_stats\"].head()"
   ]
  }
 ],
 "metadata": {
  "kernelspec": {
   "display_name": "Python 3 (ipykernel)",
   "language": "python",
   "name": "python3"
  },
  "language_info": {
   "codemirror_mode": {
    "name": "ipython",
    "version": 3
   },
   "file_extension": ".py",
   "mimetype": "text/x-python",
   "name": "python",
   "nbconvert_exporter": "python",
   "pygments_lexer": "ipython3",
   "version": "3.8.10"
  },
  "vscode": {
   "interpreter": {
    "hash": "00885e89789f58e60dbba52a405dc834aaf92411914fde0d391f9b48289a0610"
   }
  }
 },
 "nbformat": 4,
 "nbformat_minor": 2
}
