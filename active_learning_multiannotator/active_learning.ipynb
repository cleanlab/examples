{
 "cells": [
  {
   "cell_type": "markdown",
   "metadata": {},
   "source": [
    "# Using Cleanlab to Determine Examples to Collect Additional Labels for in an Active Learning Loop to Improve Classification Models "
   ]
  },
  {
   "cell_type": "markdown",
   "metadata": {},
   "source": [
    "This example demonstrates how to compute an active learning score for every datapoint in your dataset, and shows how a classification model improves after relabeling examples for multiple rounds. The examples in the dataset will have been annotated by multiple annotators, and not all examples have to be labeled at the beginning. The computed active learning score will indicate if you should collect more labels for an already-labeled example, or get a label for an example that has not been labeled.\n",
    "\n",
    "This notebook will demonstrate the following steps:\n",
    "\n",
    "1. Train a model on the current consensus labels to obtain out-of-sample predicted probabilities for each datapoint\n",
    "2. Compute active learning scores for every datapoint, this score indicates the quality and confidence of each datapoint's label, where a low active learning score indicates that we should get more\n",
    "3. Collect additional labels for the examples with the lowest active learning scores\n",
    "4. Repeat the steps above with a new set of consensus labels obtained after collecting more labels\n",
    "\n",
    "In this example we used a modified version of the [Wall-Following Robot Navigation](https://www.openml.org/search?type=data&sort=runs&status=any&qualities.NumberOfClasses=gte_2&qualities.NumberOfInstances=between_1000_10000&id=1526) dataset, where we synthetically generated multiple annotations for each datapoint with some noise. "
   ]
  },
  {
   "cell_type": "markdown",
   "metadata": {},
   "source": [
    "## Import dependencies and get data"
   ]
  },
  {
   "cell_type": "code",
   "execution_count": 1,
   "metadata": {},
   "outputs": [],
   "source": [
    "import numpy as np\n",
    "import pandas as pd\n",
    "from sklearn.ensemble import ExtraTreesClassifier\n",
    "import matplotlib.pyplot as plt\n",
    "\n",
    "from cleanlab.multiannotator import get_majority_vote_label, get_label_quality_multiannotator, get_active_learning_scores\n",
    "\n",
    "from utils.model_training import train_model\n",
    "from utils.active_learning import get_idx_to_relabel, setup_next_iter_data, add_new_annotator\n"
   ]
  },
  {
   "cell_type": "code",
   "execution_count": 2,
   "metadata": {},
   "outputs": [
    {
     "name": "stdout",
     "output_type": "stream",
     "text": [
      "File ‘data.tar.gz’ already there; not retrieving.\r\n",
      "\r\n"
     ]
    }
   ],
   "source": [
    "!wget -nc 'https://cleanlab-public.s3.amazonaws.com/ActiveLearning/WallRobot/data.tar.gz'\n",
    "!tar -xf data.tar.gz data/"
   ]
  },
  {
   "cell_type": "markdown",
   "metadata": {},
   "source": [
    "We will load the following datafiles:\n",
    "\n",
    "- `multiannotator_labels` is a DataFrame that contains labels from multiple annotators for each datapoint\n",
    "- `X_labeled` are the features for the examples that have been labeled by at least one annotator\n",
    "- `X_unlabeled` are the features for the examples that have not been labeled by any annotator\n",
    "\n",
    "Additionally, we load these extra files for simulation and demontration purposed and would usually not be available:\n",
    "\n",
    "- `extra_labels_labeled` and `extra_labels_unlabeled` are synthetically created extra labels that will be sampled from when we get more labels later in this notebook\n",
    "- `X_test` and `true_labels_test` are used to measure the model accuracy "
   ]
  },
  {
   "cell_type": "code",
   "execution_count": 3,
   "metadata": {},
   "outputs": [],
   "source": [
    "multiannotator_labels = pd.DataFrame(np.load(\"data/multiannotator_labels_labeled.npy\"))\n",
    "\n",
    "X_labeled = np.load(\"data/X_labeled.npy\")\n",
    "X_unlabeled = np.load(\"data/X_unlabeled.npy\")\n",
    "\n",
    "extra_labels_labeled = np.load(\"data/extra_labels_labeled.npy\")\n",
    "extra_labels_unlabeled = np.load(\"data/extra_labels_unlabeled.npy\")\n",
    "\n",
    "X_test = np.load(\"data/X_test.npy\")\n",
    "true_labels_test = np.load(\"data/true_labels_test.npy\")\n"
   ]
  },
  {
   "cell_type": "markdown",
   "metadata": {},
   "source": [
    "## Train model and obtain predicted probabilites\n",
    "\n",
    "First, we train our model on a set of consensus labels obtained using majority vote to get the out-of-sample predicted probabilities for both the labeled and unlabeled data. \n",
    "\n",
    "The function will return two sets of predicted probabilites, `pred_probs_labeled` are the probabilites for examples that have existing annotator labels (they correspond directly with the features `X_labeled`), whereas `active_learning_score_unlabeled` are the probabilites for examples that do not have any annotator labels (they correspond directly with the features `X_unlabeled`). These predicted probabilities will later be used to compute the active learning score.\n",
    "\n",
    "Note that our `train_model` function here also computes the model accuracy however if you have no test data, you can set `X_test=None` and `labels_test=None` and the function will still compute the predicted probabilites."
   ]
  },
  {
   "cell_type": "code",
   "execution_count": 4,
   "metadata": {},
   "outputs": [],
   "source": [
    "# get current consensus labels\n",
    "consensus_labels = get_majority_vote_label(multiannotator_labels)\n",
    "\n",
    "# train model to get out-of-sample predicted probabilies for both labels and unlabeled data\n",
    "pred_probs_labeled, pred_probs_unlabeled, model_accuacy = train_model(\n",
    "    ExtraTreesClassifier(),\n",
    "    X_labeled,\n",
    "    consensus_labels,\n",
    "    cv_n_folds=5,\n",
    "    X_unlabeled=X_unlabeled,\n",
    "    X_test=X_test,\n",
    "    labels_test=true_labels_test,\n",
    ")\n"
   ]
  },
  {
   "cell_type": "markdown",
   "metadata": {},
   "source": [
    "## Obtain active learning scores"
   ]
  },
  {
   "cell_type": "markdown",
   "metadata": {},
   "source": [
    "Next, we will get the active learning scores for each datapoint (both labeled and unlabeled) by using a combination of the annotators' agremeent and model confidence. The score will represent how reliable a label is, lower scores indicate less confidence on the examples and that additional labels should be collected for those examples. \n",
    "\n",
    "Similar to above, `active_learning_score` represents the scores for examples with existing annotator labels, and `active_learning_score_unlabeled` represents the scores for examples with no annotator labels."
   ]
  },
  {
   "cell_type": "code",
   "execution_count": 5,
   "metadata": {},
   "outputs": [],
   "source": [
    "active_learning_score, active_learning_score_unlabeled = get_active_learning_scores(\n",
    "    multiannotator_labels, pred_probs_labeled, pred_probs_unlabeled\n",
    ")"
   ]
  },
  {
   "cell_type": "code",
   "execution_count": 6,
   "metadata": {},
   "outputs": [
    {
     "data": {
      "text/plain": [
       "array([0.58924535, 0.73684886, 0.4405169 , 0.55392186, 0.57817619])"
      ]
     },
     "execution_count": 6,
     "metadata": {},
     "output_type": "execute_result"
    }
   ],
   "source": [
    "# sample of active learning scores\n",
    "active_learning_score[:5]"
   ]
  },
  {
   "cell_type": "markdown",
   "metadata": {},
   "source": [
    "## Get index to relabel"
   ]
  },
  {
   "cell_type": "markdown",
   "metadata": {},
   "source": [
    "Lastly, we can ranks the examples by their active learning scores, and obtain the index of the examples with the lowest scores; these are the least confident examples which we will want to collect more labels for.\n",
    "\n",
    "The code cell below shows how to combine the labeled and unlabeled examples before ranking them and obtaining their respective indices to collect more labels."
   ]
  },
  {
   "cell_type": "code",
   "execution_count": 7,
   "metadata": {},
   "outputs": [],
   "source": [
    "num_examples_to_label = 100 # you can pick how many examples you want to collect more labels for\n",
    "\n",
    "num_labeled = len(active_learning_score)\n",
    "active_learning_score_combined = np.concatenate((active_learning_score, active_learning_score_unlabeled))\n",
    "\n",
    "relabel_idx_combined = np.argsort(active_learning_score_combined)[:num_examples_to_label]\n",
    "relabel_idx_labeled = relabel_idx_combined[relabel_idx_combined < num_labeled]\n",
    "relabel_idx_unlabeled = (relabel_idx_combined[relabel_idx_combined >= num_labeled] - num_labeled)"
   ]
  },
  {
   "cell_type": "code",
   "execution_count": 8,
   "metadata": {},
   "outputs": [
    {
     "data": {
      "text/plain": [
       "array([910, 689, 720, 860, 274, 507, 499, 798, 161, 373, 127, 214, 140,\n",
       "       744,  78, 148, 579, 264, 311, 310, 262, 575])"
      ]
     },
     "execution_count": 8,
     "metadata": {},
     "output_type": "execute_result"
    }
   ],
   "source": [
    "# sample of indices to collect more labels for\n",
    "relabel_idx_labeled"
   ]
  },
  {
   "cell_type": "markdown",
   "metadata": {},
   "source": [
    "> ### Bringing Your Own Data (BYOD)?\n",
    "> \n",
    "> You can easily replace the above with your own dataset, and obtain the active learning scores and indices to collect more labels for using the code above.\n",
    "> \n",
    "> `multiannotator_labels` should be a numpy array of pandas DataFrame where each column represents an annotator and each row represents an examples. The classes should be ingeters from 0 to num_classes - 1, where examples that were not labeled by a particular annotator are represented using `np.nan`. `multiannotator_labels` should also only contain the examples that have been labeled by at least one annotator (no row should consist of only `np.nan` values).\n",
    "> \n",
    "> `X_labeled` and `X_unlabeled` should be numpy arrays that have the same number of columns. However, if you do not have any unlabeled examples, you can also pass an empty array of `None` as the value of `X_unlabeled`.\n"
   ]
  },
  {
   "cell_type": "markdown",
   "metadata": {},
   "source": [
    "## Demonstration of model improved after 15 rounds of active learning\n",
    "\n",
    "The code below shows a full demonstration of how we can use the functions demonstrated above to get examples to collect new labels for, collect new labels (via simulation), and use the newly collected labels to get improved consensus labels and an improved classification model for multiple rounds.\n",
    "\n",
    "This demonstration runs an active learning loop for 15 rounds, choosing 100 examples to collect more labels for each round. Each round, we use the consensus labels of each labeled example to train a classifier (here we used an `ExtraTrees` classifier) and obtain out-of-sample predicted probabilites, which is then used to compute the active learning scores for every example. We then synthetically collect new labels (this process is meant to simulate getting a new annotator to annotated a selection of examples) and repeat the active learning loop. \n",
    "\n",
    "For the first round of training, we obtain consensus labels using majority vote as we do not have any predicted probabilites yet. However for subsequent rounds we can leverage the predicted probabilites for each example obtained from the previous round to use cleanlab's [CROWDLAB algorithm](https://docs.cleanlab.ai/stable/tutorials/multiannotator.html) to obtain higher quality consensus labels for the model.\n",
    "\n",
    "We also measure the model performance on a test set each round to demonstrate the improvement of the model."
   ]
  },
  {
   "cell_type": "code",
   "execution_count": 9,
   "metadata": {},
   "outputs": [],
   "source": [
    "num_rounds = 15\n",
    "num_examples_to_relabel = 100"
   ]
  },
  {
   "cell_type": "code",
   "execution_count": 10,
   "metadata": {},
   "outputs": [],
   "source": [
    "model_accuacy_arr = np.full(num_rounds, np.nan)\n",
    "\n",
    "for i in range(num_rounds):\n",
    "    # get consensus labels\n",
    "    if i == 0:\n",
    "        consensus_labels = get_majority_vote_label(multiannotator_labels)\n",
    "    else:\n",
    "        # we can use the pred_probs from last round as the best model estimate\n",
    "        results = get_label_quality_multiannotator(multiannotator_labels, pred_probs_labeled, temp_scale=True)\n",
    "        consensus_labels = results[\"label_quality\"][\"consensus_label\"]\n",
    "\n",
    "    # train model to get out-of-sample predicted probabilites and model accuracy for the current round\n",
    "    pred_probs, pred_probs_unlabeled, model_accuacy = train_model(\n",
    "        ExtraTreesClassifier(),\n",
    "        X_labeled,\n",
    "        consensus_labels,\n",
    "        cv_n_folds=5,\n",
    "        X_unlabeled=X_unlabeled,\n",
    "        X_test=X_test,\n",
    "        labels_test=true_labels_test,\n",
    "    )\n",
    "\n",
    "    # compute active learning scores\n",
    "    active_learning_score, active_learning_score_unlabeled = get_active_learning_scores(\n",
    "        multiannotator_labels, pred_probs, pred_probs_unlabeled\n",
    "    )\n",
    "\n",
    "    # get the indices of examples to collect more labels for\n",
    "    relabel_idx, relabel_idx_unlabeled = get_idx_to_relabel(\n",
    "        active_learning_score=active_learning_score,\n",
    "        active_learning_score_unlabeled=active_learning_score_unlabeled,\n",
    "        num_examples_to_relabel=num_examples_to_relabel,\n",
    "    )\n",
    "\n",
    "    # format the data for the next round of active learning \n",
    "    # (moving some unlabeled examples to the labeled pool because we are collecting labels for them)\n",
    "    (\n",
    "        multiannotator_labels, relabel_idx_combined, X_labeled, X_unlabeled, pred_probs_labeled, \n",
    "        pred_probs_unlabeled, extra_labels_labeled, extra_labels_unlabeled,\n",
    "    ) = setup_next_iter_data(\n",
    "        multiannotator_labels, relabel_idx, relabel_idx_unlabeled, X_labeled, X_unlabeled, pred_probs, \n",
    "        pred_probs_unlabeled, extra_labels_labeled, extra_labels_unlabeled,\n",
    "    )\n",
    "\n",
    "    # add a new annotator that provides new labels for the examples with lowest active learning scores (indices obtained above)\n",
    "    multiannotator_labels = add_new_annotator(\n",
    "        multiannotator_labels, extra_labels_labeled, relabel_idx_combined\n",
    "    )\n",
    "\n",
    "    model_accuacy_arr[i] = model_accuacy"
   ]
  },
  {
   "cell_type": "markdown",
   "metadata": {},
   "source": [
    "## Evaluate results"
   ]
  },
  {
   "cell_type": "code",
   "execution_count": 11,
   "metadata": {},
   "outputs": [
    {
     "name": "stdout",
     "output_type": "stream",
     "text": [
      "Initial model test accuracy: 0.899\n",
      "Final model test accuracy (after 15 rounds of active learning): 0.981\n"
     ]
    }
   ],
   "source": [
    "print(f\"Initial model test accuracy: {model_accuacy_arr[0]:.3}\")\n",
    "print(f\"Final model test accuracy (after 15 rounds of active learning): {model_accuacy_arr[-1]:.3}\")"
   ]
  },
  {
   "cell_type": "code",
   "execution_count": 12,
   "metadata": {},
   "outputs": [
    {
     "data": {
      "image/png": "[encoded data removed]",
      "text/plain": [
       "<Figure size 640x480 with 1 Axes>"
      ]
     },
     "metadata": {},
     "output_type": "display_data"
    }
   ],
   "source": [
    "plt.plot(model_accuacy_arr)\n",
    "plt.xticks(range(num_rounds))\n",
    "plt.xlabel(\"Round\")\n",
    "plt.ylabel(\"Model Accuracy\")\n",
    "plt.show()"
   ]
  },
  {
   "cell_type": "markdown",
   "metadata": {},
   "source": [
    "From the plot above, we can see that the model accuracy increases steadily with each additional round of collecting more labels, getting improved consensus labels, and model training."
   ]
  }
 ],
 "metadata": {
  "kernelspec": {
   "display_name": "Python 3 (ipykernel)",
   "language": "python",
   "name": "python3"
  },
  "language_info": {
   "codemirror_mode": {
    "name": "ipython",
    "version": 3
   },
   "file_extension": ".py",
   "mimetype": "text/x-python",
   "name": "python",
   "nbconvert_exporter": "python",
   "pygments_lexer": "ipython3",
   "version": "3.10.8"
  },
  "vscode": {
   "interpreter": {
    "hash": "00885e89789f58e60dbba52a405dc834aaf92411914fde0d391f9b48289a0610"
   }
  }
 },
 "nbformat": 4,
 "nbformat_minor": 2
}
