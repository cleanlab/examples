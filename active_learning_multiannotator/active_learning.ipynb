{
 "cells": [
  {
   "cell_type": "markdown",
   "metadata": {},
   "source": [
    "# Active Learning with Multiple Data Annotators via ActiveLab"
   ]
  },
  {
   "cell_type": "markdown",
   "metadata": {},
   "source": [
    "[![Open In Colab](https://colab.research.google.com/assets/colab-badge.svg)](https://colab.research.google.com/github/cleanlab/examples/blob/master/active_learning_multiannotator/active_learning.ipynb)"
   ]
  },
  {
   "cell_type": "markdown",
   "metadata": {},
   "source": [
    "This notebook demonstrates a practical approach to active learning for training classification models with cleanlab. You can run this same code with *any* classifier model for any data type (image, text, tabular, audio, etc).\n",
    "\n",
    "In active learning, we aim to construct a labeled dataset by collecting the fewest labels that still allow us to train an accurate classifier model. Here we assume data labeling is done in **batches**, and between these data labeling rounds, we retrain our classifier and combine it with an [ActiveLab algorithm](https://arxiv.org/abs/2301.11856) that decides which examples (i.e. datapoints) would be most informative to label next round. We assume there are **multiple** annotators to label the data, but since their labels are not necessarily perfect, we sometimes wish to ask a new annotator to provide an extra label for a previously labeled example. This active learning with multiple annotators setup is more widely applicable than academic studies which only consider labeling one example in each round or being limited to a single (noise-free) annotation per example. The code demonstrated here still works effectively in single annotator settings too!\n",
    "\n",
    "cleanlab provides two useful estimates for multi-annotator active learning: (1) an active learning score estimating how informative an additional label would be for each example, (2) accurate consensus labels for the previously labeled examples that can be used for classifier model training.\n",
    "\n",
    "This notebook demonstrates how to use these estimates for sequential active learning, showing how a classification model iteratively improves after (re)labeling examples for multiple rounds. Some examples in the initial dataset are allowed to have been labeled by multiple annotators, while other examples may have 0 labels (unlabeled pool). Cleanlab's active learning score indicates whether you should collect: another label for an already-labeled example (ie. having one more annotator review some potentially difficult example), or the first label for a new example that has not yet been labeled. The active learning scores properly weigh this trade-off based on cleanlab's estimates of label quality, in order to maximally improve your classifier with the fewest total labels.\n",
    "\n",
    "This notebook implements the following steps:\n",
    "\n",
    "1. Establish consensus labels (for the already labeled data). Use them to train a classifier model and then obtain out-of-sample predicted probabilities for each example.\n",
    "2. Compute active learning scores for every example, which estimate our current confidence in knowing its true label.\n",
    "3. Collect additional labels for the examples with the lowest active learning scores. These are the most potentially informative examples whose true label we are least certain of. \n",
    "4. Repeat the steps above to collect as many labels as your budget permits.\n",
    "\n",
    "The accuracy of the model trained on the resulting dataset will generally match that of the same model trained on a much larger set of randomly collected labels. I.e. this is the most cost-effective way to train an accurate classifier!\n",
    "\n",
    "In this example we use a modified version of the [Wall-Following Robot Navigation](https://www.openml.org/search?type=data&sort=runs&status=any&qualities.NumberOfClasses=gte_2&qualities.NumberOfInstances=between_1000_10000&id=1526) dataset, with multiple data annotators who each provide noisy labels."
   ]
  },
  {
   "cell_type": "markdown",
   "metadata": {},
   "source": [
    "## Import dependencies and get data"
   ]
  },
  {
   "cell_type": "markdown",
   "metadata": {},
   "source": [
    "Please install the dependencies specified in this [requirements.txt](https://github.com/cleanlab/examples/blob/master/active_learning_multiannotator/requirements.txt) file before running the notebook.  "
   ]
  },
  {
   "cell_type": "code",
   "execution_count": 1,
   "metadata": {},
   "outputs": [],
   "source": [
    "import numpy as np\n",
    "import pandas as pd\n",
    "from sklearn.ensemble import ExtraTreesClassifier\n",
    "import matplotlib.pyplot as plt\n",
    "\n",
    "from cleanlab.multiannotator import get_majority_vote_label, get_label_quality_multiannotator, get_active_learning_scores\n",
    "\n",
    "from utils.model_training import fit_predict_proba\n",
    "from utils.active_learning import setup_next_iter_data, add_new_annotator\n"
   ]
  },
  {
   "cell_type": "code",
   "execution_count": 2,
   "metadata": {},
   "outputs": [
    {
     "name": "stdout",
     "output_type": "stream",
     "text": [
      "File ‘data.tar.gz’ already there; not retrieving.\n",
      "\n"
     ]
    }
   ],
   "source": [
    "!wget -nc 'https://cleanlab-public.s3.amazonaws.com/ActiveLearning/WallRobot/data.tar.gz'\n",
    "!tar -xf data.tar.gz data/"
   ]
  },
  {
   "cell_type": "markdown",
   "metadata": {},
   "source": [
    "We load the following datafiles:\n",
    "\n",
    "- `multiannotator_labels` is a DataFrame that contains labels from multiple annotators for each example (different number of annotations per example)\n",
    "- `X_labeled` are the features for the examples that have been labeled by at least one annotator\n",
    "- `X_unlabeled` are the features for the examples that have not yet been labeled by any annotator\n",
    "\n",
    "Additionally, we load some extra files for demo purposes, which will probably not be available in your application:\n",
    "\n",
    "- `extra_labels_labeled` and `extra_labels_unlabeled` are sampled from when we get ask annotators to provide additional labels later in this notebook\n",
    "- `X_test` and `true_labels_test` are used to measure the current model's predictive accuracy in each round of multi-annotator active learning"
   ]
  },
  {
   "cell_type": "code",
   "execution_count": 3,
   "metadata": {},
   "outputs": [],
   "source": [
    "multiannotator_labels = pd.DataFrame(np.load(\"data/multiannotator_labels_labeled.npy\"))\n",
    "\n",
    "X_labeled = np.load(\"data/X_labeled.npy\")\n",
    "X_unlabeled = np.load(\"data/X_unlabeled.npy\")\n",
    "\n",
    "# The files imported below are only used for demonstration purposes,\n",
    "# they are not required for active learning and often won't be available in your application\n",
    "extra_labels_labeled = np.load(\"data/extra_labels_labeled.npy\")\n",
    "extra_labels_unlabeled = np.load(\"data/extra_labels_unlabeled.npy\")\n",
    "X_test = np.load(\"data/X_test.npy\")\n",
    "true_labels_test = np.load(\"data/true_labels_test.npy\")\n"
   ]
  },
  {
   "cell_type": "markdown",
   "metadata": {},
   "source": [
    "## Train model to obtain predicted probabilites\n",
    "\n",
    "First, we train our model on a set of consensus labels obtained using majority vote to get the out-of-sample predicted class probabilities for both the labeled and unlabeled data. Note that the `multiannotator_labels` DataFrame used to obtain consensus labels only includes the examples that have been labeled by at least one annotator, as we are not able to get consensus labels for examples that have not been labeled at all.\n",
    "\n",
    "The function will return two sets of predicted probabilites, `pred_probs_labeled` are the predicted probabilites for examples that have existing annotator labels (they correspond directly with the features `X_labeled`), whereas `active_learning_scores_unlabeled` are the predicted probabilites for examples that do not have any annotator labels (they correspond directly with the features `X_unlabeled`). These predicted probabilities will later be used to compute the active learning score.\n",
    "\n",
    "If working with your own dataset, you should consider modifying this `fit_predict_proba` function so that it is better fitted for training your specific dataset."
   ]
  },
  {
   "cell_type": "code",
   "execution_count": 4,
   "metadata": {},
   "outputs": [],
   "source": [
    "# Get current consensus labels\n",
    "consensus_labels = get_majority_vote_label(multiannotator_labels)\n",
    "\n",
    "# Train model to get out-of-sample predicted probabilies for both labels and unlabeled data\n",
    "pred_probs_labeled, pred_probs_unlabeled = fit_predict_proba(\n",
    "    ExtraTreesClassifier(),\n",
    "    X_labeled,\n",
    "    consensus_labels,\n",
    "    cv_n_folds=5,\n",
    "    X_unlabeled=X_unlabeled,\n",
    ")\n"
   ]
  },
  {
   "cell_type": "markdown",
   "metadata": {},
   "source": [
    "## Obtain active learning scores"
   ]
  },
  {
   "cell_type": "markdown",
   "metadata": {},
   "source": [
    "Next, we will get the active learning scores for each datapoint (both labeled and unlabeled) by using a combination of the annotators' agremeent and model confidence. These scores represent how confident we are about an example's true label based on the currently obtained annotations; examples with the lowest scores are those for which additional labels should be collected (i.e. likely the most informative). These scores are estimated via an **ActiveLab** algorithm developed by the Cleanlab team, and may sometimes prioritize an already-labeled example over an unlabeled example if the annotations for the labeled example are deemed unreliable (ActiveLab appropriately estimates the value of collecting new annotations for unlabeled data vs already-labeled data). \n",
    "\n",
    "Similar to above, the `multiannotator_labels` DataFrame here should only include examples that have received at least one annotation (`multiannotator_labels` should have the same number of rows as `pred_probs_labeled`). This method returns two arrays: `active_learning_scores` represents the scores for examples with existing annotations, and `active_learning_scores_unlabeled` represents the scores for examples with no annotations so far. Scores should be directly comparable between these two groups, and you should favor collecting an additional label for the examples with the lowest scores."
   ]
  },
  {
   "cell_type": "code",
   "execution_count": 5,
   "metadata": {},
   "outputs": [],
   "source": [
    "active_learning_scores, active_learning_scores_unlabeled = get_active_learning_scores(\n",
    "    multiannotator_labels, pred_probs_labeled, pred_probs_unlabeled\n",
    ")"
   ]
  },
  {
   "cell_type": "code",
   "execution_count": 6,
   "metadata": {},
   "outputs": [
    {
     "data": {
      "text/plain": [
       "array([0.60722785, 0.74885414, 0.43063227, 0.5846288 , 0.5857348 ])"
      ]
     },
     "execution_count": 6,
     "metadata": {},
     "output_type": "execute_result"
    }
   ],
   "source": [
    "# Sample of active learning scores\n",
    "active_learning_scores[:5]"
   ]
  },
  {
   "cell_type": "markdown",
   "metadata": {},
   "source": [
    "## Get index to relabel"
   ]
  },
  {
   "cell_type": "markdown",
   "metadata": {},
   "source": [
    "Lastly, we can ranks the examples by their active learning scores, and obtain the index of the examples with the lowest scores; these are the least confident examples which we will want to collect more labels for.\n",
    "\n",
    "The code cell below shows how to combine the labeled and unlabeled examples before ranking them and obtaining their respective indices to collect more labels."
   ]
  },
  {
   "cell_type": "code",
   "execution_count": 7,
   "metadata": {},
   "outputs": [],
   "source": [
    "batch_size_to_label = 100 # you can pick how many examples to collect more labels for at each round\n",
    "\n",
    "num_labeled = len(active_learning_scores)\n",
    "active_learning_scores_combined = np.concatenate((active_learning_scores, active_learning_scores_unlabeled))\n",
    "\n",
    "to_label_idx_combined = np.argsort(active_learning_scores_combined)[:batch_size_to_label]\n",
    "to_label_idx_labeled = to_label_idx_combined[to_label_idx_combined < num_labeled]\n",
    "to_label_idx_unlabeled = (to_label_idx_combined[to_label_idx_combined >= num_labeled] - num_labeled)"
   ]
  },
  {
   "cell_type": "code",
   "execution_count": 8,
   "metadata": {},
   "outputs": [
    {
     "data": {
      "text/plain": [
       "array([857, 910,  78,  94, 689, 860, 716, 612, 850, 382, 264, 507, 685,\n",
       "       813, 148, 274, 575, 299,  87])"
      ]
     },
     "execution_count": 8,
     "metadata": {},
     "output_type": "execute_result"
    }
   ],
   "source": [
    "# Sample of indices to collect more labels for\n",
    "to_label_idx_labeled"
   ]
  },
  {
   "cell_type": "markdown",
   "metadata": {},
   "source": [
    "> ### Bringing Your Own Data (BYOD)?\n",
    "> \n",
    "> You can easily replace the above with your own dataset, and obtain the active learning scores and indices to collect more labels for using the code above.\n",
    "> \n",
    "> `multiannotator_labels` should be a numpy array of pandas DataFrame where each column represents an annotator and each row represents an example. The classes should be ingeters from 0 to num_classes - 1, where examples that were not labeled by a particular annotator are represented using `np.nan`. `multiannotator_labels` should also only contain the examples that have been labeled by at least one annotator (no row should consist of only `np.nan` values).\n",
    "> \n",
    "> `X_labeled` and `X_unlabeled` should be numpy arrays that have the same number of columns. However, if you do not have any unlabeled examples, you can also pass an empty array of `None` as the value of `X_unlabeled`.\n"
   ]
  },
  {
   "cell_type": "markdown",
   "metadata": {},
   "source": [
    "## Improving model accuracy over 15 rounds of multi-annotator active learning (collecting new labels) \n",
    "\n",
    "The code below shows a full demonstration of how we can repeatedly use the functions demonstrated above for multiple rounds in order to select which examples to collect new labels for, ask annotators to provide these new labels (via a noisy simulation in this example), and use the newly collected labels to get improved consensus labels used to train an improved classification model.\n",
    "\n",
    "This demonstration runs this multi-annotator active learning loop for 15 rounds, choosing 100 examples to collect more labels for each round. Each round, we use the consensus labels of each labeled example to train a classifier (here we used an `ExtraTrees` classifier) and obtain out-of-sample predicted probabilites, which is then used to compute the active learning scores for every example. We then synthetically collect new labels (this process is meant to simulate getting a new annotator to annotated a selection of examples) and repeat the active learning loop. \n",
    "\n",
    "For the first round of training, we obtain consensus labels using majority vote as we do not have any predicted probabilites yet. For subsequent rounds, we employ the classifier-predicted probabilites for each example (obtained from the previous round) with cleanlab's [CROWDLAB algorithm](https://docs.cleanlab.ai/stable/tutorials/multiannotator.html), in order to produce higher quality consensus labels that the model can be trained with.\n",
    "\n",
    "[Optional step] We also measure the model performance on a test set each round to demonstrate the improvement of the model."
   ]
  },
  {
   "cell_type": "code",
   "execution_count": 9,
   "metadata": {},
   "outputs": [],
   "source": [
    "num_rounds = 15\n",
    "batch_size_to_label = 100"
   ]
  },
  {
   "cell_type": "code",
   "execution_count": 10,
   "metadata": {},
   "outputs": [],
   "source": [
    "# Function to get indices of examples with the lowest active learning score to collect more labels for\n",
    "def get_idx_to_label(\n",
    "    active_learning_scores,\n",
    "    batch_size_to_label,\n",
    "    active_learning_scores_unlabeled=None,\n",
    "):\n",
    "    if active_learning_scores_unlabeled is None:\n",
    "        active_learning_scores_unlabeled = np.array([])\n",
    "\n",
    "    num_labeled = len(active_learning_scores)\n",
    "    active_learning_scores_combined = np.concatenate((active_learning_scores, active_learning_scores_unlabeled))\n",
    "\n",
    "    if batch_size_to_label > len(active_learning_scores_combined):\n",
    "        raise ValueError(\"num_examples_to_relabel is larger than the total number of examples available\")\n",
    "\n",
    "    to_label_idx_combined = np.argsort(active_learning_scores_combined)[:batch_size_to_label]\n",
    "    to_label_idx = to_label_idx_combined[to_label_idx_combined < num_labeled]\n",
    "    to_label_idx_unlabeled = (to_label_idx_combined[to_label_idx_combined >= num_labeled] - num_labeled)\n",
    "\n",
    "    return to_label_idx, to_label_idx_unlabeled"
   ]
  },
  {
   "cell_type": "code",
   "execution_count": 11,
   "metadata": {},
   "outputs": [],
   "source": [
    "model_accuracy_arr = np.full(num_rounds, np.nan)\n",
    "\n",
    "for i in range(num_rounds):\n",
    "    # Get consensus labels\n",
    "    if i == 0:\n",
    "        consensus_labels = get_majority_vote_label(multiannotator_labels)\n",
    "    else:\n",
    "        # We can use the pred_probs from last round as the best model estimate\n",
    "        results = get_label_quality_multiannotator(\n",
    "            multiannotator_labels, \n",
    "            pred_probs_labeled,\n",
    "            calibrate_probs=True,\n",
    "        )\n",
    "        consensus_labels = results[\"label_quality\"][\"consensus_label\"]\n",
    "\n",
    "    # Train model to get out-of-sample predicted probabilites \n",
    "    pred_probs, pred_probs_unlabeled = fit_predict_proba(\n",
    "        ExtraTreesClassifier(),\n",
    "        X_labeled,\n",
    "        consensus_labels,\n",
    "        cv_n_folds=5,\n",
    "        X_unlabeled=X_unlabeled,\n",
    "    )\n",
    "\n",
    "    # Train a model on the full set of labeled data, to evaluate model accuracy for the current round.\n",
    "    # This is optional step for demonstration, you may not have ground truth labels in applications.\n",
    "    model = ExtraTreesClassifier()\n",
    "    model.fit(X_labeled, consensus_labels)\n",
    "    pred_labels = model.predict(X_test)\n",
    "    model_accuracy_arr[i] = np.mean(pred_labels == true_labels_test)\n",
    "\n",
    "    # Compute active learning scores\n",
    "    active_learning_scores, active_learning_scores_unlabeled = get_active_learning_scores(\n",
    "        multiannotator_labels, pred_probs, pred_probs_unlabeled\n",
    "    )\n",
    "\n",
    "    # Get the indices of examples to collect more labels for\n",
    "    relabel_idx, relabel_idx_unlabeled = get_idx_to_label(\n",
    "        active_learning_scores=active_learning_scores,\n",
    "        active_learning_scores_unlabeled=active_learning_scores_unlabeled,\n",
    "        batch_size_to_label=batch_size_to_label,\n",
    "    )\n",
    "\n",
    "    # Format the data for the next round of active learning, moving some unlabeled examples to the labeled pool \n",
    "    # because we are collecting labels for them.\n",
    "    # Note: you need to replace this helper function with your own function to properly update the labeled \n",
    "    # and unlabeled pools in your application.\n",
    "    (\n",
    "        multiannotator_labels, relabel_idx_combined, X_labeled, X_unlabeled, pred_probs_labeled, \n",
    "        pred_probs_unlabeled, extra_labels_labeled, extra_labels_unlabeled,\n",
    "    ) = setup_next_iter_data(\n",
    "        multiannotator_labels, relabel_idx, relabel_idx_unlabeled, X_labeled, X_unlabeled, pred_probs, \n",
    "        pred_probs_unlabeled, extra_labels_labeled, extra_labels_unlabeled,\n",
    "    )\n",
    "\n",
    "    # Collect additional labels for the examples with lowest active learning scores (indices obtained above).\n",
    "    # Here we add one new annotator who labels all of the examples in the selected batch, \n",
    "    # but you could have the existing annotators label these examples instead. \n",
    "    # Note: you need to replace this helper function with your own function to collect additional labels in your application.\n",
    "    multiannotator_labels = add_new_annotator(\n",
    "        multiannotator_labels, extra_labels_labeled, relabel_idx_combined\n",
    "    )"
   ]
  },
  {
   "cell_type": "markdown",
   "metadata": {},
   "source": [
    "In the final step of each active learning round above, we added one new annotator that annotates all the examples identified with the lowest active learning scores. It is not required that these examples be labeled by one new annotator (just done here for simplicity). These examples could instead be labeled by multiple new annotators, or multiple existing annotators, or any other combination. However you choose to collect additional labels, just be sure to properly update `multiannotator_labels` to reflect who provided these annotations.\n",
    "\n",
    "Our example above utilized helper functions (eg. `setup_next_iter_data`, `add_new_annotator`) to collect new labels after each round of active learning. You *must* replace these helper functions in real applications with your own code to obtain new labels from human annotators and properly reformat the labeled/unlabeled data with the new labels."
   ]
  },
  {
   "cell_type": "markdown",
   "metadata": {},
   "source": [
    "## Evaluate results"
   ]
  },
  {
   "cell_type": "code",
   "execution_count": 12,
   "metadata": {},
   "outputs": [
    {
     "name": "stdout",
     "output_type": "stream",
     "text": [
      "Initial model test accuracy: 0.902\n",
      "Final model test accuracy (after 15 rounds of active learning): 0.982\n"
     ]
    }
   ],
   "source": [
    "print(f\"Initial model test accuracy: {model_accuracy_arr[0]:.3}\")\n",
    "print(f\"Final model test accuracy (after 15 rounds of active learning): {model_accuracy_arr[-1]:.3}\")"
   ]
  },
  {
   "cell_type": "code",
   "execution_count": 13,
   "metadata": {},
   "outputs": [
    {
     "data": {
      "image/png": "[encoded data removed]",
      "text/plain": [
       "<Figure size 640x480 with 1 Axes>"
      ]
     },
     "metadata": {},
     "output_type": "display_data"
    }
   ],
   "source": [
    "plt.plot(model_accuracy_arr)\n",
    "plt.xticks(range(num_rounds))\n",
    "plt.xlabel(\"Round\")\n",
    "plt.ylabel(\"Model Accuracy\")\n",
    "plt.show()"
   ]
  },
  {
   "cell_type": "markdown",
   "metadata": {},
   "source": [
    "From the plot above, we can see that the model accuracy increases steadily with each additional round of collecting more labels, getting improved consensus labels, and model training.\n",
    "To learn about the ActiveLab algorithm and benchmarks of its effectiveness, check out our paper:\n",
    "\n",
    "**[ActiveLab: Active Learning with Re-Labeling by Multiple Annotators](https://arxiv.org/abs/2301.11856)**"
   ]
  },
  {
   "cell_type": "markdown",
   "metadata": {},
   "source": [
    "## Other useful multiannotator statistics"
   ]
  },
  {
   "cell_type": "markdown",
   "metadata": {},
   "source": [
    "After conducting multiple rounds of multi-annotator active learning, you can also estimate various statistics from the labeled data such as the higher quality [CROWDLAB consensus label](https://arxiv.org/abs/2210.06812) for each example, consensus label quality scores that quantify how likely each consensus label is correct, and annotator quality scores that quantify how noisy each annotator's labels are overall. \n",
    "\n",
    "Below we show how to obtain this information using the annotators' labels and the model's predicted class probabilites. Check out cleanlab's [multiannotator module](https://docs.cleanlab.ai/stable/tutorials/multiannotator.html) for details!"
   ]
  },
  {
   "cell_type": "markdown",
   "metadata": {},
   "source": [
    "Using the annotator labels and predicted probabilites to get the consensus labels and other statistics:"
   ]
  },
  {
   "cell_type": "code",
   "execution_count": 14,
   "metadata": {},
   "outputs": [],
   "source": [
    "multiannotator_results = get_label_quality_multiannotator(multiannotator_labels, pred_probs_labeled)"
   ]
  },
  {
   "cell_type": "markdown",
   "metadata": {},
   "source": [
    "Each row of the `label_quality` dataframe corresponds to an example, here you can get the CROWDLAB consensus label and its quality score:"
   ]
  },
  {
   "cell_type": "code",
   "execution_count": 15,
   "metadata": {},
   "outputs": [
    {
     "data": {
      "text/html": [
       "<div>\n",
       "<style scoped>\n",
       "    .dataframe tbody tr th:only-of-type {\n",
       "        vertical-align: middle;\n",
       "    }\n",
       "\n",
       "    .dataframe tbody tr th {\n",
       "        vertical-align: top;\n",
       "    }\n",
       "\n",
       "    .dataframe thead th {\n",
       "        text-align: right;\n",
       "    }\n",
       "</style>\n",
       "<table border=\"1\" class=\"dataframe\">\n",
       "  <thead>\n",
       "    <tr style=\"text-align: right;\">\n",
       "      <th></th>\n",
       "      <th>consensus_label</th>\n",
       "      <th>consensus_quality_score</th>\n",
       "      <th>annotator_agreement</th>\n",
       "      <th>num_annotations</th>\n",
       "    </tr>\n",
       "  </thead>\n",
       "  <tbody>\n",
       "    <tr>\n",
       "      <th>0</th>\n",
       "      <td>0</td>\n",
       "      <td>0.891332</td>\n",
       "      <td>1.00</td>\n",
       "      <td>1</td>\n",
       "    </tr>\n",
       "    <tr>\n",
       "      <th>1</th>\n",
       "      <td>3</td>\n",
       "      <td>0.914493</td>\n",
       "      <td>1.00</td>\n",
       "      <td>1</td>\n",
       "    </tr>\n",
       "    <tr>\n",
       "      <th>2</th>\n",
       "      <td>1</td>\n",
       "      <td>0.349226</td>\n",
       "      <td>0.25</td>\n",
       "      <td>8</td>\n",
       "    </tr>\n",
       "    <tr>\n",
       "      <th>3</th>\n",
       "      <td>1</td>\n",
       "      <td>0.919139</td>\n",
       "      <td>1.00</td>\n",
       "      <td>1</td>\n",
       "    </tr>\n",
       "    <tr>\n",
       "      <th>4</th>\n",
       "      <td>1</td>\n",
       "      <td>0.837486</td>\n",
       "      <td>1.00</td>\n",
       "      <td>1</td>\n",
       "    </tr>\n",
       "  </tbody>\n",
       "</table>\n",
       "</div>"
      ],
      "text/plain": [
       "   consensus_label  consensus_quality_score  annotator_agreement  \\\n",
       "0                0                 0.891332                 1.00   \n",
       "1                3                 0.914493                 1.00   \n",
       "2                1                 0.349226                 0.25   \n",
       "3                1                 0.919139                 1.00   \n",
       "4                1                 0.837486                 1.00   \n",
       "\n",
       "   num_annotations  \n",
       "0                1  \n",
       "1                1  \n",
       "2                8  \n",
       "3                1  \n",
       "4                1  "
      ]
     },
     "execution_count": 15,
     "metadata": {},
     "output_type": "execute_result"
    }
   ],
   "source": [
    "multiannotator_results[\"label_quality\"].head()"
   ]
  },
  {
   "cell_type": "markdown",
   "metadata": {},
   "source": [
    "Each row of the `annotator_stats` dataframe corresponds to an annotator, here you can get their annotator quality and other information about the annotators:"
   ]
  },
  {
   "cell_type": "code",
   "execution_count": 16,
   "metadata": {},
   "outputs": [
    {
     "data": {
      "text/html": [
       "<div>\n",
       "<style scoped>\n",
       "    .dataframe tbody tr th:only-of-type {\n",
       "        vertical-align: middle;\n",
       "    }\n",
       "\n",
       "    .dataframe tbody tr th {\n",
       "        vertical-align: top;\n",
       "    }\n",
       "\n",
       "    .dataframe thead th {\n",
       "        text-align: right;\n",
       "    }\n",
       "</style>\n",
       "<table border=\"1\" class=\"dataframe\">\n",
       "  <thead>\n",
       "    <tr style=\"text-align: right;\">\n",
       "      <th></th>\n",
       "      <th>annotator_quality</th>\n",
       "      <th>agreement_with_consensus</th>\n",
       "      <th>worst_class</th>\n",
       "      <th>num_examples_labeled</th>\n",
       "    </tr>\n",
       "  </thead>\n",
       "  <tbody>\n",
       "    <tr>\n",
       "      <th>44</th>\n",
       "      <td>0.339440</td>\n",
       "      <td>0.49</td>\n",
       "      <td>3</td>\n",
       "      <td>100</td>\n",
       "    </tr>\n",
       "    <tr>\n",
       "      <th>42</th>\n",
       "      <td>0.401138</td>\n",
       "      <td>0.58</td>\n",
       "      <td>3</td>\n",
       "      <td>100</td>\n",
       "    </tr>\n",
       "    <tr>\n",
       "      <th>32</th>\n",
       "      <td>0.404506</td>\n",
       "      <td>0.47</td>\n",
       "      <td>3</td>\n",
       "      <td>100</td>\n",
       "    </tr>\n",
       "    <tr>\n",
       "      <th>33</th>\n",
       "      <td>0.433437</td>\n",
       "      <td>0.54</td>\n",
       "      <td>3</td>\n",
       "      <td>100</td>\n",
       "    </tr>\n",
       "    <tr>\n",
       "      <th>41</th>\n",
       "      <td>0.434918</td>\n",
       "      <td>0.62</td>\n",
       "      <td>3</td>\n",
       "      <td>100</td>\n",
       "    </tr>\n",
       "  </tbody>\n",
       "</table>\n",
       "</div>"
      ],
      "text/plain": [
       "    annotator_quality  agreement_with_consensus  worst_class  \\\n",
       "44           0.339440                      0.49            3   \n",
       "42           0.401138                      0.58            3   \n",
       "32           0.404506                      0.47            3   \n",
       "33           0.433437                      0.54            3   \n",
       "41           0.434918                      0.62            3   \n",
       "\n",
       "    num_examples_labeled  \n",
       "44                   100  \n",
       "42                   100  \n",
       "32                   100  \n",
       "33                   100  \n",
       "41                   100  "
      ]
     },
     "execution_count": 16,
     "metadata": {},
     "output_type": "execute_result"
    }
   ],
   "source": [
    "multiannotator_results[\"annotator_stats\"].head()"
   ]
  }
 ],
 "metadata": {
  "kernelspec": {
   "display_name": "Python 3 (ipykernel)",
   "language": "python",
   "name": "python3"
  },
  "language_info": {
   "codemirror_mode": {
    "name": "ipython",
    "version": 3
   },
   "file_extension": ".py",
   "mimetype": "text/x-python",
   "name": "python",
   "nbconvert_exporter": "python",
   "pygments_lexer": "ipython3",
   "version": "3.10.8"
  },
  "vscode": {
   "interpreter": {
    "hash": "00885e89789f58e60dbba52a405dc834aaf92411914fde0d391f9b48289a0610"
   }
  }
 },
 "nbformat": 4,
 "nbformat_minor": 2
}
