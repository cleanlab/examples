{
 "cells": [
  {
   "cell_type": "markdown",
   "id": "6f08ac68",
   "metadata": {},
   "source": [
    "# Iterative use of Cleanlab to Improve Classification Models (and Consensus Labels) from Data Labeled by Multiple Annotators"
   ]
  },
  {
   "cell_type": "markdown",
   "id": "44a0555b",
   "metadata": {},
   "source": [
    "This example shows how to repeatedly improve consensus labels established from data labeled by multiple annotators by iterating the following steps: (1) train a model on the current consensus labels, (2) leverage the model's predictions to obtain superior consensus labels that can be used to subsequently train a better model in the next round. In each round, consensus labels are established using the [CROWDLAB algorithm](TODO:link), for which a basic tutorial is available here: [Find Best Consensus Labels for Multiannotator Data using Cleanlab](TODO:link). \n",
    "\n",
    "Here we demonstrate this functionality using a subset of the [CIFAR-10H](https://github.com/jcpeterson/cifar-10h) dataset from Peterson et al. (2019), in which multiple human annotators were asked to suggest labels for images from the famous [CIFAR-10](https://www.cs.toronto.edu/~kriz/cifar.html) image classification dataset.\n",
    "Because this notebook utilizes AutoML for model training and cleanlab is compatible with any model/dataset, you should be able to run the below code with any image classification dataset where each image has been labeled by multiple annotators."
   ]
  },
  {
   "cell_type": "markdown",
   "id": "95724ad1",
   "metadata": {},
   "source": [
    "## Import required dependencies and download data"
   ]
  },
  {
   "cell_type": "code",
   "execution_count": null,
   "id": "68b291ad",
   "metadata": {},
   "outputs": [],
   "source": [
    "import os\n",
    "import numpy as np\n",
    "import pandas as pd\n",
    "from matplotlib import pyplot as plt\n",
    "from matplotlib.ticker import MaxNLocator\n",
    "from datetime import datetime\n",
    "\n",
    "from utils.model_training import train_model, sum_xval_folds\n",
    "from cleanlab.multiannotator import get_majority_vote_label, get_label_quality_multiannotator"
   ]
  },
  {
   "cell_type": "code",
   "execution_count": null,
   "id": "2f3551b6",
   "metadata": {},
   "outputs": [],
   "source": [
    "experiment_path = \"./experiment\"  # folder to save outputs from this notebook\n",
    "if not os.path.exists(experiment_path):\n",
    "    os.makedirs(experiment_path)\n",
    "    print(\"Directory \" , experiment_path ,  \" Created \")\n",
    "else:    \n",
    "    print(\"Directory \" , experiment_path ,  \" already exists\")\n",
    "\n",
    "print(f'Experiment saved in {experiment_path}')"
   ]
  },
  {
   "cell_type": "code",
   "execution_count": null,
   "id": "23c50596",
   "metadata": {},
   "outputs": [],
   "source": [
    "# Download CIFAR-10 dataset for model training (requires internet connection)\n",
    "!wget -nc 'https://cleanlab-public.s3.amazonaws.com/Multiannotator/cifar-10/cifar10_test.tar.gz'\n",
    "!tar -xzf cifar10_test.tar.gz\n",
    "\n",
    "# Here is an alternative command to download the data from the source:\n",
    "# cifar2png cifar10 ./data/cifar10_test --name-with-batch-index\n",
    "\n",
    "# Import CIFAR-10h labels and image paths\n",
    "!cd $experiment_path && wget -nc 'https://cleanlab-public.s3.amazonaws.com/Multiannotator/cifar-10h/cifar-10h-worst25-coin20/c10h_labels_worst25_coin20.npy'\n",
    "!cd $experiment_path && wget -nc 'https://cleanlab-public.s3.amazonaws.com/Multiannotator/cifar-10h/cifar-10h-worst25-coin20/c10h_image_paths.npy'\n",
    "!cd $experiment_path && wget -nc 'https://cleanlab-public.s3.amazonaws.com/Multiannotator/cifar-10h/cifar-10h-worst25-coin20/c10h_test_labels.npy'"
   ]
  },
  {
   "cell_type": "markdown",
   "id": "1d2bed92",
   "metadata": {},
   "source": [
    "## Load labels selected by each annotator\n",
    "Here `multiannotator_labels` is a subset of `CIFAR-10H`, where each image has been labeled by one or more annotators, but not every annotator has labeled every image."
   ]
  },
  {
   "cell_type": "code",
   "execution_count": 4,
   "id": "a66d57e5",
   "metadata": {},
   "outputs": [],
   "source": [
    "# Load labels\n",
    "multiannotator_labels = np.load(f'{experiment_path}/c10h_labels_worst25_coin20.npy')\n",
    "\n",
    "# Load and reformat image paths to work for specific machine\n",
    "image_paths = np.load(f'{experiment_path}/c10h_image_paths.npy', allow_pickle=True)\n",
    "path = os.getcwd()\n",
    "image_paths = [f\"{path}/{image_path}\" for image_path in image_paths]"
   ]
  },
  {
   "cell_type": "markdown",
   "id": "9f7a322a",
   "metadata": {},
   "source": [
    "<div class=\"alert alert-info\">\n",
    "    <h3>Bringing Your Own Data (BYOD)?</h3>\n",
    "\n",
    "You can easily replace the above with your own multiannotator dataset, and continue with the rest of this notebook.\n",
    "\n",
    "`multiannotator_labels` should be a numpy array or pandas DataFrame with each column representing an annotator and each row representing an example. Your classes (and entries of `multiannotator_labels`) should be represented as integer indices 0, 1, ..., num_classes - 1, where examples that were not labeled by a particular annotator can be represented using `np.nan`.\n",
    "    \n",
    "    \n",
    "If working with images, `image_paths` should be a list whose i-th entry is a string specifying (absolute or relative) path to the image corresponding to i-th row of `multiannotator_labels`.\n",
    "\n",
    "The strategy outlined in this notebook can also be used for non-image data if you replace `image_paths` with a suitable object containing training examples corresponding to the rows of `multiannotator_labels`.\n",
    "\n",
    "</div>\n"
   ]
  },
  {
   "cell_type": "markdown",
   "id": "66bafbf8",
   "metadata": {},
   "source": [
    "To training our classification model, we must first obtain consensus labels from the multiple annotations in the dataset. An initial set of consensus labels can be established via a simple majority vote."
   ]
  },
  {
   "cell_type": "code",
   "execution_count": 5,
   "id": "5a953e3a",
   "metadata": {},
   "outputs": [],
   "source": [
    "consensus_labels = get_majority_vote_label(multiannotator_labels)"
   ]
  },
  {
   "cell_type": "markdown",
   "id": "3c114734",
   "metadata": {},
   "source": [
    "## Train model and use cleanlab to get better consensus labels"
   ]
  },
  {
   "cell_type": "markdown",
   "id": "e31453ef",
   "metadata": {},
   "source": [
    "Next we train our model on these consensus labels and then obtain out-of-sample predicted probabilities for each example in the dataset. We will then use these `pred_probs` to generate improved `consensus_labels` using cleanlab's [CROWDLAB algorithm](TODO:link-to-paper). In turn, these improved `consensus_labels` can then be used to train a better model that generates more accurate `pred_probs`. This process is iterated in the loop below to repeatedly improve both the consensus labels and our classification model.\n",
    "\n",
    "Within each round, the `train_model()` method trains a `resnet18` image classifier using cross validation to get out-of-sample predicted class probabilities for each image in the dataset. This function can be replaced with custom code for training your own model. Here we use the [AutoGluon](https://auto.gluon.ai/) AutoML library to train powerful image classifiers (like ResNet or Swin Transformer), but this requires a GPU to run in a reasonable time."
   ]
  },
  {
   "cell_type": "code",
   "execution_count": 6,
   "id": "370c66ca",
   "metadata": {},
   "outputs": [],
   "source": [
    "model_type = \"resnet18\"  # to use Swin Transformer model instead of ResNet, replace this with: \"swin_base_patch4_window7_224\"\n",
    "\n",
    "train_args = {  # parameters to control model training \n",
    "    \"num_cv_folds\": 5,  # decrease this value if you want code to run faster\n",
    "    \"epochs\": 50,  # decrease this value if you want code to run faster\n",
    "    \"time_limit\": 7200, # decrease this value if you want code to run faster\n",
    "    \"random_state\": 123,\n",
    "    \"verbose\": 1, \n",
    "}"
   ]
  },
  {
   "cell_type": "code",
   "execution_count": null,
   "id": "7c27da16",
   "metadata": {},
   "outputs": [],
   "source": [
    "indices_changed = set()\n",
    "seen_consensus_labels = list()\n",
    "model_results = {}\n",
    "rounds = 0\n",
    "MAX_ROUNDS = 3  # Maximum number of times to establish new consensus labels train model\n",
    "\n",
    "# Loop to iteratively improve consensus labels and our trained classifier (this code takes a while) \n",
    "while tuple(consensus_labels) not in seen_consensus_labels and rounds < MAX_ROUNDS:\n",
    "    seen_consensus_labels.append(tuple(consensus_labels)) # add curent consensus labels into the set\n",
    "    model_results['rounds'] = rounds\n",
    "    model_xval_results_folder = f'{experiment_path}/xval_results_round{rounds}' # + [model_type]\n",
    "\n",
    "    # Zip consensus labels with their corresponding image_paths\n",
    "    consensus_data = pd.DataFrame(zip(image_paths,consensus_labels), columns=[\"image\", \"label\"])\n",
    "    \n",
    "    # Train model\n",
    "    train_model(model_type, consensus_data, model_xval_results_folder, **train_args);\n",
    "    pred_probs, labels, images = sum_xval_folds(model_type, model_xval_results_folder, **train_args)\n",
    "    \n",
    "    # Get improved consensus labels with label quality multiannotator using model pred probs\n",
    "    label_quality_multiannotator = get_label_quality_multiannotator(multiannotator_labels, pred_probs, verbose=False)\n",
    "    consensus_labels = label_quality_multiannotator[\"label_quality\"][\"consensus_label\"].tolist()\n",
    "    \n",
    "    unique_indices = len(indices_changed)\n",
    "    indices_changed.update(list(np.where(consensus_labels != np.array(seen_consensus_labels[-1]))[0]))\n",
    "    unique_indices = len(indices_changed) - unique_indices\n",
    "    label_changes_from_prior = np.sum(consensus_labels != np.array(seen_consensus_labels[-1]))\n",
    "    \n",
    "    print(\"Num changes in consensus labels from previous round: \", np.sum(consensus_labels != np.array(seen_consensus_labels[-1])))\n",
    "    print(\"Num unique indices changed: \", unique_indices)\n",
    "    # End to delete\n",
    "    \n",
    "    results = {\n",
    "        \"pred_probs\": pred_probs,\n",
    "        \"consensus_labels_in\": labels, # consensus labels used to train the model\n",
    "        \"images\": images, \n",
    "        \"consensus_labels_out\": consensus_labels, # new consensus labels generated from pred_probs\n",
    "        \"label_changes_from_prior\": label_changes_from_prior, # num changes in consensus labels from previous iterations\n",
    "        \"unique_indices_added\": unique_indices, # number of unique labels indices changed\n",
    "    }\n",
    "    \n",
    "    model_results[rounds] = results\n",
    "    rounds+=1\n",
    "    \n",
    "    if unique_indices == 0:  # no more label improvement has occurred\n",
    "        break"
   ]
  },
  {
   "cell_type": "markdown",
   "id": "9aa26e05",
   "metadata": {},
   "source": [
    "## Evaluate consensus labels and model predictions\n",
    "Since our annotators annotated a dataset `CIFAR-10` for which there exist [highly accurate](https://arxiv.org/abs/2103.14749) `true_labels`, we can evaluate the accuracy of both the consensus labels and classifier predictions against ground truth gold labels. In real applications, this will not be possible since ground truth labels will not be available. Here we emphasize that all classifier accuracy estimates are calculated via cross-validation and only computed using *held-out* data that the model did not see during training."
   ]
  },
  {
   "cell_type": "code",
   "execution_count": 8,
   "id": "3758a5fb",
   "metadata": {},
   "outputs": [],
   "source": [
    "# Load ground truth labels (only for evaluation purposes, you normally do not have this information)\n",
    "true_labels = np.load(f'{experiment_path}/c10h_test_labels.npy')"
   ]
  },
  {
   "cell_type": "code",
   "execution_count": 9,
   "id": "06915543",
   "metadata": {},
   "outputs": [
    {
     "name": "stdout",
     "output_type": "stream",
     "text": [
      "Final consensus label accuracy (vs ground truth):  0.9688\n",
      "Final model predictions accuracy (vs ground truth):  0.9063\n"
     ]
    }
   ],
   "source": [
    "# Calculate accuracy of consensus labels and model predictions from each round, measured against ground truth labels\n",
    "for i in range(rounds):\n",
    "    pred_probs = model_results[i]['pred_probs']\n",
    "    consensus_labels_in = model_results[i]['consensus_labels_in']\n",
    "    consensus_labels_out = model_results[i]['consensus_labels_out']\n",
    "\n",
    "    acc_model_gtruth = (pred_probs.argmax(axis=1) == true_labels).mean()\n",
    "    acc_consensus_gtruth = (consensus_labels_in == true_labels).mean()\n",
    "\n",
    "    results = {\n",
    "        \"consensus_gtruth_accuracy\": acc_consensus_gtruth, # consensus labels accuracy \n",
    "        \"model_gtruth_accuracy\": acc_model_gtruth,         # model label accuracy\n",
    "    }\n",
    "    \n",
    "    model_results[i].update(results)\n",
    "\n",
    "final_consensus_labels = model_results[rounds-1][\"consensus_labels_out\"]\n",
    "final_consensus_accuracy = (final_consensus_labels == true_labels).mean()\n",
    "\n",
    "print(\"Final consensus label accuracy (vs ground truth): \", final_consensus_accuracy)\n",
    "print(\"Final model predictions accuracy (vs ground truth): \", model_results[rounds-1][\"model_gtruth_accuracy\"])"
   ]
  },
  {
   "cell_type": "markdown",
   "id": "03bb6b74",
   "metadata": {},
   "source": [
    "Let's plot the accuracy of our consensus labels and trained model over each round, in which we establish consensus labels (with the help of predictions from the model trained in the previous round) and then train another copy of our model using these new consensus labels. Here round 0 corresponds to the initial `consensus_labels` obtained via majority vote (without the help of a model) and the classifier produced by training a model on these majority-vote `consensus_labels`. \n",
    "\n",
    "You can see that cleanlab greatly improves the consensus labels from those obtained via basic majority vote and this also greatly improves the trained model. Iterating this process over several rounds brings further improvements in both the consensus labels and the trained classification model."
   ]
  },
  {
   "cell_type": "code",
   "execution_count": 10,
   "id": "0b97270d",
   "metadata": {},
   "outputs": [
    {
     "data": {
      "image/png": "[encoded data removed]",
      "text/plain": [
       "<Figure size 1224x432 with 2 Axes>"
      ]
     },
     "metadata": {
      "needs_background": "light"
     },
     "output_type": "display_data"
    }
   ],
   "source": [
    "consensus_gtruth_accuracy = [model_results[i][\"consensus_gtruth_accuracy\"] \n",
    "                             for i in range(rounds)]\n",
    "\n",
    "model_gtruth_accuracy = [model_results[i][\"model_gtruth_accuracy\"] for i in range(rounds)]\n",
    "\n",
    "\n",
    "# plot prc\n",
    "plt.rcParams[\"figure.figsize\"] = (17,6)\n",
    "plt.show()\n",
    "\n",
    "ax1 = plt.subplot(1, 2, 1)\n",
    "ax1.xaxis.set_major_locator(MaxNLocator(integer=True))\n",
    "plt.plot(range(0, rounds),consensus_gtruth_accuracy)\n",
    "plt.xlabel(\"Rounds\", fontsize=14)\n",
    "plt.ylabel(\"Accuracy of Consensus Labels\", fontsize=14)\n",
    "plt.title(\"Consensus Label vs Ground Truth Labels\", fontsize=14, fontweight=\"bold\")\n",
    "\n",
    "plt.subplot(1, 2, 2, sharex=ax1, sharey=ax1)\n",
    "plt.plot(range(0, rounds), model_gtruth_accuracy)\n",
    "plt.xlabel(\"Rounds\", fontsize=14)\n",
    "plt.ylabel(\"Accuracy of Model Predictions\", fontsize=14)\n",
    "plt.title(\"Model Predictions vs Ground Truth Labels\", fontsize=14, fontweight=\"bold\")\n",
    "\n",
    "plt.show()"
   ]
  },
  {
   "cell_type": "markdown",
   "id": "4280ef3c",
   "metadata": {},
   "source": [
    "### References \n",
    "Peterson, J., Battleday, R., Griffiths, T., & Russakovsky, O. (2019).\n",
    "    **Human uncertainty makes classification more robust**.\n",
    "    In *Proceedings of the IEEE International Conference on Computer Vision*."
   ]
  },
  {
   "cell_type": "code",
   "execution_count": null,
   "id": "aeac8b61",
   "metadata": {
    "nbsphinx": "hidden"
   },
   "outputs": [],
   "source": [
    "# You can ignore this cell, it is just used during CI.\n",
    "# if consensus_gtruth_accuracy[0] >= consensus_gtruth_accuracy[-1]:  # check cleanlab has improved prediction accuracy\n",
    "#     raise Exception(\"Cleanlab failed to improve baseline consensus label accuracy.\")"
   ]
  }
 ],
 "metadata": {
  "kernelspec": {
   "display_name": "Python 3 (ipykernel)",
   "language": "python",
   "name": "python3"
  },
  "language_info": {
   "codemirror_mode": {
    "name": "ipython",
    "version": 3
   },
   "file_extension": ".py",
   "mimetype": "text/x-python",
   "name": "python",
   "nbconvert_exporter": "python",
   "pygments_lexer": "ipython3",
   "version": "3.9.13"
  }
 },
 "nbformat": 4,
 "nbformat_minor": 5
}
