{
 "cells": [
  {
   "cell_type": "markdown",
   "id": "3d8b9b58",
   "metadata": {
    "papermill": {
     "duration": 0.004475,
     "end_time": "2022-04-13T21:24:12.736401",
     "exception": false,
     "start_time": "2022-04-13T21:24:12.731926",
     "status": "completed"
    },
    "tags": []
   },
   "source": [
    "# Hyperparameter Optimization Tutorial\n",
    "\n",
    "This tutorial will show you the main hyper-parameters for CleanLearning. There are only two!\n",
    "\n",
    "1. `filter_by` : str (default: `'prune_by_noise_rate'`), Method used for pruning.\n",
    "    * Values: [`'prune_by_class'`, `'prune_by_noise_rate'`, or `'both'`]. \n",
    "    * `'prune_by_noise_rate'`: works by removing examples with *high probability* of being mislabeled for every non-diagonal in the prune_counts_matrix (see filter.py).\n",
    "    * `'prune_by_class'`: works by removing the examples with *smallest probability* of belonging to their given class label for every class.\n",
    "    * `'both'`: Finds the examples satisfying (1) AND (2) and removes their set conjunction. \n",
    "\n",
    "\n",
    "2. converge_latent_estimates : bool (Default: False)\n",
    "    * If true, forces numerical consistency of latent estimates. Each is estimated independently, but they are related mathematically with closed form  equivalences. This will iteratively enforce mathematically consistency."
   ]
  },
  {
   "cell_type": "code",
   "execution_count": 1,
   "id": "c843175c",
   "metadata": {
    "execution": {
     "iopub.execute_input": "2022-04-13T21:24:12.745612Z",
     "iopub.status.busy": "2022-04-13T21:24:12.745144Z",
     "iopub.status.idle": "2022-04-13T21:24:12.755885Z",
     "shell.execute_reply": "2022-04-13T21:24:12.754855Z"
    },
    "papermill": {
     "duration": 0.017833,
     "end_time": "2022-04-13T21:24:12.758053",
     "exception": false,
     "start_time": "2022-04-13T21:24:12.740220",
     "status": "completed"
    },
    "tags": []
   },
   "outputs": [],
   "source": [
    "# Python 2 and 3 compatibility\n",
    "from __future__ import (\n",
    "    print_function,\n",
    "    absolute_import,\n",
    "    division,\n",
    "    unicode_literals,\n",
    "    with_statement,\n",
    ")\n"
   ]
  },
  {
   "cell_type": "code",
   "execution_count": 2,
   "id": "89454c70",
   "metadata": {
    "execution": {
     "iopub.execute_input": "2022-04-13T21:24:12.766111Z",
     "iopub.status.busy": "2022-04-13T21:24:12.765809Z",
     "iopub.status.idle": "2022-04-13T21:24:14.535186Z",
     "shell.execute_reply": "2022-04-13T21:24:14.534286Z"
    },
    "papermill": {
     "duration": 1.776148,
     "end_time": "2022-04-13T21:24:14.537729",
     "exception": false,
     "start_time": "2022-04-13T21:24:12.761581",
     "status": "completed"
    },
    "tags": []
   },
   "outputs": [],
   "source": [
    "from cleanlab.classification import CleanLearning\n",
    "from cleanlab.benchmarking.noise_generation import generate_noise_matrix_from_trace\n",
    "from cleanlab.benchmarking.noise_generation import generate_noisy_labels\n",
    "from cleanlab.internal.util import print_noise_matrix\n",
    "from sklearn.datasets import make_classification\n",
    "from sklearn.preprocessing import StandardScaler\n",
    "from sklearn.model_selection import train_test_split\n",
    "from sklearn.linear_model import LogisticRegression\n",
    "from sklearn.naive_bayes import GaussianNB\n",
    "from sklearn.model_selection import GridSearchCV\n",
    "import numpy as np\n",
    "import copy\n"
   ]
  },
  {
   "cell_type": "code",
   "execution_count": 3,
   "id": "96441cf1",
   "metadata": {
    "execution": {
     "iopub.execute_input": "2022-04-13T21:24:14.547377Z",
     "iopub.status.busy": "2022-04-13T21:24:14.546855Z",
     "iopub.status.idle": "2022-04-13T21:24:14.553455Z",
     "shell.execute_reply": "2022-04-13T21:24:14.552667Z"
    },
    "papermill": {
     "duration": 0.013081,
     "end_time": "2022-04-13T21:24:14.555330",
     "exception": false,
     "start_time": "2022-04-13T21:24:14.542249",
     "status": "completed"
    },
    "tags": []
   },
   "outputs": [],
   "source": [
    "def make_linear_dataset(n_classes=3, n_samples=300):\n",
    "    X, y = make_classification(\n",
    "        n_samples=n_samples,\n",
    "        n_features=2,\n",
    "        n_redundant=0,\n",
    "        n_informative=2,\n",
    "        random_state=1,\n",
    "        n_clusters_per_class=1,\n",
    "        n_classes=n_classes,\n",
    "    )\n",
    "    rng = np.random.RandomState(2)\n",
    "    X += 2 * rng.uniform(size=X.shape)\n",
    "    return (X, y)\n"
   ]
  },
  {
   "cell_type": "code",
   "execution_count": 4,
   "id": "b3d700da",
   "metadata": {
    "execution": {
     "iopub.execute_input": "2022-04-13T21:24:14.562997Z",
     "iopub.status.busy": "2022-04-13T21:24:14.562725Z",
     "iopub.status.idle": "2022-04-13T21:24:14.566888Z",
     "shell.execute_reply": "2022-04-13T21:24:14.566175Z"
    },
    "papermill": {
     "duration": 0.010003,
     "end_time": "2022-04-13T21:24:14.568688",
     "exception": false,
     "start_time": "2022-04-13T21:24:14.558685",
     "status": "completed"
    },
    "tags": []
   },
   "outputs": [],
   "source": [
    "# hyper-parameters\n",
    "param_grid = {\n",
    "    \"find_label_issues_kwargs\": [\n",
    "        {\"filter_by\": \"prune_by_noise_rate\"},\n",
    "        {\"filter_by\": \"prune_by_class\"},\n",
    "        {\"filter_by\": \"both\"},\n",
    "    ],\n",
    "    \"converge_latent_estimates\": [True, False],\n",
    "}\n"
   ]
  },
  {
   "cell_type": "code",
   "execution_count": 5,
   "id": "21da0eb4",
   "metadata": {
    "execution": {
     "iopub.execute_input": "2022-04-13T21:24:14.578811Z",
     "iopub.status.busy": "2022-04-13T21:24:14.578098Z",
     "iopub.status.idle": "2022-04-13T21:24:14.587999Z",
     "shell.execute_reply": "2022-04-13T21:24:14.587399Z"
    },
    "papermill": {
     "duration": 0.017937,
     "end_time": "2022-04-13T21:24:14.589920",
     "exception": false,
     "start_time": "2022-04-13T21:24:14.571983",
     "status": "completed"
    },
    "tags": []
   },
   "outputs": [],
   "source": [
    "# Set the sparsity of the noise matrix.\n",
    "frac_zero_noise_rates = 0.0  # Consider increasing to 0.5\n",
    "# A proxy for the fraction of labels that are correct.\n",
    "avg_trace = 0.65  # ~35% wrong labels. Increasing makes the problem easier.\n",
    "# Amount of data for each dataset.\n",
    "dataset_size = 250  # Try 250 or 400 to use less or more data.\n",
    "num_classes = 3\n",
    "\n",
    "ds = make_linear_dataset(n_classes=num_classes, n_samples=num_classes * dataset_size)\n",
    "X, y = ds\n",
    "X = StandardScaler().fit_transform(X)\n",
    "X_train, X_test, y_train, y_test = train_test_split(X, y, test_size=0.4, random_state=0)\n"
   ]
  },
  {
   "cell_type": "markdown",
   "id": "ae3518f1-196a-45de-af76-0bfe9b91437b",
   "metadata": {
    "papermill": {
     "duration": 0.003228,
     "end_time": "2022-04-13T21:24:14.596633",
     "exception": false,
     "start_time": "2022-04-13T21:24:14.593405",
     "status": "completed"
    },
    "tags": []
   },
   "source": [
    "## Run hyper-parameter search with sklearn GridSearchCV"
   ]
  },
  {
   "cell_type": "code",
   "execution_count": 6,
   "id": "9f6a1a63",
   "metadata": {
    "execution": {
     "iopub.execute_input": "2022-04-13T21:24:14.604183Z",
     "iopub.status.busy": "2022-04-13T21:24:14.603867Z",
     "iopub.status.idle": "2022-04-13T21:24:23.896299Z",
     "shell.execute_reply": "2022-04-13T21:24:23.895265Z"
    },
    "papermill": {
     "duration": 9.298442,
     "end_time": "2022-04-13T21:24:23.898340",
     "exception": false,
     "start_time": "2022-04-13T21:24:14.599898",
     "status": "completed"
    },
    "tags": []
   },
   "outputs": [
    {
     "name": "stdout",
     "output_type": "stream",
     "text": [
      "\n",
      " =========== \n",
      " Naive Bayes \n",
      " ===========\n",
      "\n",
      " Noise Matrix (aka Noisy Channel) P(labels|y) of shape (3, 3)\n",
      " p(labe\ty=0\ty=1\ty=2\n",
      "\t---\t---\t---\n",
      "labels=0 |\t0.52\t0.1\t0.34\n",
      "labels=1 |\t0.2\t0.82\t0.05\n",
      "labels=2 |\t0.28\t0.07\t0.61\n",
      "\tTrace(matrix) = 1.95\n",
      "\n",
      "Computing out of sample predicted probabilites via 5-fold cross validation. May take a while ...\n",
      "Using predicted probabilities to identify label issues ...\n"
     ]
    },
    {
     "name": "stdout",
     "output_type": "stream",
     "text": [
      "Identified 133 examples with label issues.\n",
      "Pruning 133 examples with label issues ...\n",
      "Remaining clean data has 227 examples.\n",
      "Assigning sample weights for final training based on estimated label quality.\n",
      "Fitting final model on the clean data ...\n",
      "Computing out of sample predicted probabilites via 5-fold cross validation. May take a while ...\n",
      "Using predicted probabilities to identify label issues ...\n"
     ]
    },
    {
     "name": "stdout",
     "output_type": "stream",
     "text": [
      "Identified 146 examples with label issues.\n",
      "Pruning 146 examples with label issues ...\n",
      "Remaining clean data has 214 examples.\n",
      "Assigning sample weights for final training based on estimated label quality.\n",
      "Fitting final model on the clean data ...\n",
      "Computing out of sample predicted probabilites via 5-fold cross validation. May take a while ...\n",
      "Using predicted probabilities to identify label issues ...\n"
     ]
    },
    {
     "name": "stdout",
     "output_type": "stream",
     "text": [
      "Identified 143 examples with label issues.\n",
      "Pruning 143 examples with label issues ...\n",
      "Remaining clean data has 217 examples.\n",
      "Assigning sample weights for final training based on estimated label quality.\n",
      "Fitting final model on the clean data ...\n",
      "Computing out of sample predicted probabilites via 5-fold cross validation. May take a while ...\n",
      "Using predicted probabilities to identify label issues ...\n"
     ]
    },
    {
     "name": "stdout",
     "output_type": "stream",
     "text": [
      "Identified 142 examples with label issues.\n",
      "Pruning 142 examples with label issues ...\n",
      "Remaining clean data has 218 examples.\n",
      "Assigning sample weights for final training based on estimated label quality.\n",
      "Fitting final model on the clean data ...\n",
      "Computing out of sample predicted probabilites via 5-fold cross validation. May take a while ...\n",
      "Using predicted probabilities to identify label issues ...\n"
     ]
    },
    {
     "name": "stdout",
     "output_type": "stream",
     "text": [
      "Identified 140 examples with label issues.\n",
      "Pruning 140 examples with label issues ...\n",
      "Remaining clean data has 220 examples.\n",
      "Assigning sample weights for final training based on estimated label quality.\n",
      "Fitting final model on the clean data ...\n",
      "Computing out of sample predicted probabilites via 5-fold cross validation. May take a while ...\n"
     ]
    },
    {
     "name": "stdout",
     "output_type": "stream",
     "text": [
      "Using predicted probabilities to identify label issues ...\n"
     ]
    },
    {
     "name": "stdout",
     "output_type": "stream",
     "text": [
      "Identified 170 examples with label issues."
     ]
    },
    {
     "name": "stdout",
     "output_type": "stream",
     "text": [
      "\n",
      "Pruning 170 examples with label issues ...\n",
      "Remaining clean data has 190 examples.\n",
      "Assigning sample weights for final training based on estimated label quality.\n",
      "Fitting final model on the clean data ...\n",
      "Computing out of sample predicted probabilites via 5-fold cross validation. May take a while ...\n",
      "Using predicted probabilities to identify label issues ...\n"
     ]
    },
    {
     "name": "stdout",
     "output_type": "stream",
     "text": [
      "Identified 161 examples with label issues.\n",
      "Pruning 161 examples with label issues ...\n",
      "Remaining clean data has 199 examples.\n",
      "Assigning sample weights for final training based on estimated label quality.\n",
      "Fitting final model on the clean data ...\n",
      "Computing out of sample predicted probabilites via 5-fold cross validation. May take a while ...\n",
      "Using predicted probabilities to identify label issues ...\n"
     ]
    },
    {
     "name": "stdout",
     "output_type": "stream",
     "text": [
      "Identified 156 examples with label issues.\n",
      "Pruning 156 examples with label issues ...\n",
      "Remaining clean data has 204 examples.\n",
      "Assigning sample weights for final training based on estimated label quality.\n",
      "Fitting final model on the clean data ...\n",
      "Computing out of sample predicted probabilites via 5-fold cross validation. May take a while ...\n",
      "Using predicted probabilities to identify label issues ...\n"
     ]
    },
    {
     "name": "stdout",
     "output_type": "stream",
     "text": [
      "Identified 162 examples with label issues.\n",
      "Pruning 162 examples with label issues ...\n",
      "Remaining clean data has 198 examples.\n",
      "Assigning sample weights for final training based on estimated label quality.\n",
      "Fitting final model on the clean data ...\n",
      "Computing out of sample predicted probabilites via 5-fold cross validation. May take a while ...\n",
      "Using predicted probabilities to identify label issues ...\n"
     ]
    },
    {
     "name": "stdout",
     "output_type": "stream",
     "text": [
      "Identified 159 examples with label issues.\n",
      "Pruning 159 examples with label issues ...\n",
      "Remaining clean data has 201 examples.\n",
      "Assigning sample weights for final training based on estimated label quality.\n",
      "Fitting final model on the clean data ...\n",
      "Computing out of sample predicted probabilites via 5-fold cross validation. May take a while ...\n",
      "Using predicted probabilities to identify label issues ...\n"
     ]
    },
    {
     "name": "stdout",
     "output_type": "stream",
     "text": [
      "Identified 133 examples with label issues.\n",
      "Pruning 133 examples with label issues ...\n",
      "Remaining clean data has 227 examples.\n",
      "Assigning sample weights for final training based on estimated label quality.\n",
      "Fitting final model on the clean data ...\n",
      "Computing out of sample predicted probabilites via 5-fold cross validation. May take a while ...\n",
      "Using predicted probabilities to identify label issues ...\n"
     ]
    },
    {
     "name": "stdout",
     "output_type": "stream",
     "text": [
      "Identified 142 examples with label issues.\n",
      "Pruning 142 examples with label issues ...\n",
      "Remaining clean data has 218 examples.\n",
      "Assigning sample weights for final training based on estimated label quality.\n",
      "Fitting final model on the clean data ...\n",
      "Computing out of sample predicted probabilites via 5-fold cross validation. May take a while ...\n",
      "Using predicted probabilities to identify label issues ...\n"
     ]
    },
    {
     "name": "stdout",
     "output_type": "stream",
     "text": [
      "Identified 135 examples with label issues.\n",
      "Pruning 135 examples with label issues ...\n",
      "Remaining clean data has 225 examples.\n",
      "Assigning sample weights for final training based on estimated label quality.\n",
      "Fitting final model on the clean data ...\n"
     ]
    },
    {
     "name": "stdout",
     "output_type": "stream",
     "text": [
      "Computing out of sample predicted probabilites via 5-fold cross validation. May take a while ...\n",
      "Using predicted probabilities to identify label issues ...\n"
     ]
    },
    {
     "name": "stdout",
     "output_type": "stream",
     "text": [
      "Identified 139 examples with label issues.\n",
      "Pruning 139 examples with label issues ...\n",
      "Remaining clean data has 221 examples.\n",
      "Assigning sample weights for final training based on estimated label quality.\n",
      "Fitting final model on the clean data ...\n"
     ]
    },
    {
     "name": "stdout",
     "output_type": "stream",
     "text": [
      "Computing out of sample predicted probabilites via 5-fold cross validation. May take a while ...\n"
     ]
    },
    {
     "name": "stdout",
     "output_type": "stream",
     "text": [
      "Using predicted probabilities to identify label issues ...\n"
     ]
    },
    {
     "name": "stdout",
     "output_type": "stream",
     "text": [
      "Identified 129 examples with label issues.\n",
      "Pruning 129 examples with label issues ...\n",
      "Remaining clean data has 231 examples.\n",
      "Assigning sample weights for final training based on estimated label quality.\n",
      "Fitting final model on the clean data ...\n"
     ]
    },
    {
     "name": "stdout",
     "output_type": "stream",
     "text": [
      "Computing out of sample predicted probabilites via 5-fold cross validation. May take a while ...\n",
      "Using predicted probabilities to identify label issues ...\n"
     ]
    },
    {
     "name": "stdout",
     "output_type": "stream",
     "text": [
      "Identified 137 examples with label issues.\n",
      "Pruning 137 examples with label issues ...\n",
      "Remaining clean data has 223 examples.\n",
      "Assigning sample weights for final training based on estimated label quality.\n",
      "Fitting final model on the clean data ...\n",
      "Computing out of sample predicted probabilites via 5-fold cross validation. May take a while ...\n",
      "Using predicted probabilities to identify label issues ...\n"
     ]
    },
    {
     "name": "stdout",
     "output_type": "stream",
     "text": [
      "Identified 144 examples with label issues.\n",
      "Pruning 144 examples with label issues ...\n",
      "Remaining clean data has 216 examples.\n",
      "Assigning sample weights for final training based on estimated label quality.\n",
      "Fitting final model on the clean data ...\n",
      "Computing out of sample predicted probabilites via 5-fold cross validation. May take a while ...\n",
      "Using predicted probabilities to identify label issues ...\n"
     ]
    },
    {
     "name": "stdout",
     "output_type": "stream",
     "text": [
      "Identified 140 examples with label issues.\n",
      "Pruning 140 examples with label issues ...\n",
      "Remaining clean data has 220 examples.\n",
      "Assigning sample weights for final training based on estimated label quality.\n",
      "Fitting final model on the clean data ...\n",
      "Computing out of sample predicted probabilites via 5-fold cross validation. May take a while ...\n",
      "Using predicted probabilities to identify label issues ...\n"
     ]
    },
    {
     "name": "stdout",
     "output_type": "stream",
     "text": [
      "Identified 140 examples with label issues.\n",
      "Pruning 140 examples with label issues ...\n",
      "Remaining clean data has 220 examples.\n",
      "Assigning sample weights for final training based on estimated label quality.\n",
      "Fitting final model on the clean data ...\n",
      "Computing out of sample predicted probabilites via 5-fold cross validation. May take a while ...\n",
      "Using predicted probabilities to identify label issues ...\n"
     ]
    },
    {
     "name": "stdout",
     "output_type": "stream",
     "text": [
      "Identified 138 examples with label issues.\n",
      "Pruning 138 examples with label issues ...\n",
      "Remaining clean data has 222 examples.\n",
      "Assigning sample weights for final training based on estimated label quality.\n",
      "Fitting final model on the clean data ...\n",
      "Computing out of sample predicted probabilites via 5-fold cross validation. May take a while ...\n",
      "Using predicted probabilities to identify label issues ...\n"
     ]
    },
    {
     "name": "stdout",
     "output_type": "stream",
     "text": [
      "Identified 165 examples with label issues.\n",
      "Pruning 165 examples with label issues ...\n",
      "Remaining clean data has 195 examples.\n",
      "Assigning sample weights for final training based on estimated label quality.\n",
      "Fitting final model on the clean data ...\n",
      "Computing out of sample predicted probabilites via 5-fold cross validation. May take a while ...\n",
      "Using predicted probabilities to identify label issues ...\n"
     ]
    },
    {
     "name": "stdout",
     "output_type": "stream",
     "text": [
      "Identified 161 examples with label issues.\n",
      "Pruning 161 examples with label issues ...\n",
      "Remaining clean data has 199 examples.\n",
      "Assigning sample weights for final training based on estimated label quality.\n",
      "Fitting final model on the clean data ...\n",
      "Computing out of sample predicted probabilites via 5-fold cross validation. May take a while ...\n",
      "Using predicted probabilities to identify label issues ...\n"
     ]
    },
    {
     "name": "stdout",
     "output_type": "stream",
     "text": [
      "Identified 159 examples with label issues.\n",
      "Pruning 159 examples with label issues ...\n",
      "Remaining clean data has 201 examples.\n",
      "Assigning sample weights for final training based on estimated label quality.\n",
      "Fitting final model on the clean data ...\n",
      "Computing out of sample predicted probabilites via 5-fold cross validation. May take a while ...\n",
      "Using predicted probabilities to identify label issues ...\n"
     ]
    },
    {
     "name": "stdout",
     "output_type": "stream",
     "text": [
      "Identified 162 examples with label issues.\n",
      "Pruning 162 examples with label issues ...\n",
      "Remaining clean data has 198 examples.\n",
      "Assigning sample weights for final training based on estimated label quality.\n",
      "Fitting final model on the clean data ...\n",
      "Computing out of sample predicted probabilites via 5-fold cross validation. May take a while ...\n",
      "Using predicted probabilities to identify label issues ...\n"
     ]
    },
    {
     "name": "stdout",
     "output_type": "stream",
     "text": [
      "Identified 158 examples with label issues.\n",
      "Pruning 158 examples with label issues ...\n",
      "Remaining clean data has 202 examples.\n",
      "Assigning sample weights for final training based on estimated label quality.\n",
      "Fitting final model on the clean data ...\n",
      "Computing out of sample predicted probabilites via 5-fold cross validation. May take a while ...\n",
      "Using predicted probabilities to identify label issues ...\n"
     ]
    },
    {
     "name": "stdout",
     "output_type": "stream",
     "text": [
      "Identified 135 examples with label issues.\n",
      "Pruning 135 examples with label issues ...\n",
      "Remaining clean data has 225 examples.\n",
      "Assigning sample weights for final training based on estimated label quality.\n",
      "Fitting final model on the clean data ...\n",
      "Computing out of sample predicted probabilites via 5-fold cross validation. May take a while ...\n",
      "Using predicted probabilities to identify label issues ...\n"
     ]
    },
    {
     "name": "stdout",
     "output_type": "stream",
     "text": [
      "Identified 133 examples with label issues.\n",
      "Pruning 133 examples with label issues ...\n",
      "Remaining clean data has 227 examples.\n",
      "Assigning sample weights for final training based on estimated label quality.\n",
      "Fitting final model on the clean data ...\n",
      "Computing out of sample predicted probabilites via 5-fold cross validation. May take a while ...\n",
      "Using predicted probabilities to identify label issues ...\n"
     ]
    },
    {
     "name": "stdout",
     "output_type": "stream",
     "text": [
      "Identified 132 examples with label issues.\n",
      "Pruning 132 examples with label issues ...\n",
      "Remaining clean data has 228 examples.\n",
      "Assigning sample weights for final training based on estimated label quality.\n",
      "Fitting final model on the clean data ...\n",
      "Computing out of sample predicted probabilites via 5-fold cross validation. May take a while ...\n",
      "Using predicted probabilities to identify label issues ...\n"
     ]
    },
    {
     "name": "stdout",
     "output_type": "stream",
     "text": [
      "Identified 144 examples with label issues.\n",
      "Pruning 144 examples with label issues ...\n",
      "Remaining clean data has 216 examples.\n",
      "Assigning sample weights for final training based on estimated label quality.\n",
      "Fitting final model on the clean data ...\n",
      "Computing out of sample predicted probabilites via 5-fold cross validation. May take a while ...\n"
     ]
    },
    {
     "name": "stdout",
     "output_type": "stream",
     "text": [
      "Using predicted probabilities to identify label issues ...\n"
     ]
    },
    {
     "name": "stdout",
     "output_type": "stream",
     "text": [
      "Identified 128 examples with label issues.\n",
      "Pruning 128 examples with label issues ...\n",
      "Remaining clean data has 232 examples.\n",
      "Assigning sample weights for final training based on estimated label quality.\n",
      "Fitting final model on the clean data ...\n",
      "Computing out of sample predicted probabilites via 5-fold cross validation. May take a while ...\n"
     ]
    },
    {
     "name": "stdout",
     "output_type": "stream",
     "text": [
      "Using predicted probabilities to identify label issues ...\n"
     ]
    },
    {
     "name": "stdout",
     "output_type": "stream",
     "text": [
      "Identified 195 examples with label issues.\n",
      "Pruning 195 examples with label issues ...\n",
      "Remaining clean data has 255 examples.\n",
      "Assigning sample weights for final training based on estimated label quality.\n",
      "Fitting final model on the clean data ...\n",
      "Accuracy with default parameters: 0.65\n",
      "Accuracy with optimized parameters: 0.7\n",
      "\n",
      "Optimal parameter settings using Naive Bayes\n",
      "--------------------------------------------\n",
      "cv : None\n",
      "error_score : nan\n",
      "estimator__clf__priors : None\n",
      "estimator__clf__var_smoothing : 1e-09\n",
      "estimator__clf : GaussianNB()\n",
      "estimator__converge_latent_estimates : False\n",
      "estimator__cv_n_folds : 5\n",
      "estimator__find_label_issues_kwargs : {}\n",
      "estimator__pulearning : None\n",
      "estimator__seed : None\n",
      "estimator__verbose : True\n",
      "estimator : CleanLearning(clf=GaussianNB())\n",
      "n_jobs : None\n",
      "param_grid : {'find_label_issues_kwargs': [{'filter_by': 'prune_by_noise_rate'}, {'filter_by': 'prune_by_class'}, {'filter_by': 'both'}], 'converge_latent_estimates': [True, False]}\n",
      "pre_dispatch : 2*n_jobs\n",
      "refit : True\n",
      "return_train_score : False\n",
      "scoring : None\n",
      "verbose : 0\n",
      "\n",
      " =================== \n",
      " Logistic Regression \n",
      " ===================\n",
      "\n",
      " Noise Matrix (aka Noisy Channel) P(labels|y) of shape (3, 3)\n",
      " p(labe\ty=0\ty=1\ty=2\n",
      "\t---\t---\t---\n",
      "labels=0 |\t0.52\t0.1\t0.34\n",
      "labels=1 |\t0.2\t0.82\t0.05\n",
      "labels=2 |\t0.28\t0.07\t0.61\n",
      "\tTrace(matrix) = 1.95\n",
      "\n",
      "Computing out of sample predicted probabilites via 5-fold cross validation. May take a while ...\n",
      "Using predicted probabilities to identify label issues ...\n"
     ]
    },
    {
     "name": "stdout",
     "output_type": "stream",
     "text": [
      "Identified 135 examples with label issues.\n",
      "Pruning 135 examples with label issues ...\n",
      "Remaining clean data has 225 examples.\n",
      "Assigning sample weights for final training based on estimated label quality.\n",
      "Fitting final model on the clean data ...\n",
      "Computing out of sample predicted probabilites via 5-fold cross validation. May take a while ...\n"
     ]
    },
    {
     "name": "stdout",
     "output_type": "stream",
     "text": [
      "Using predicted probabilities to identify label issues ...\n"
     ]
    },
    {
     "name": "stdout",
     "output_type": "stream",
     "text": [
      "Identified 137 examples with label issues.\n",
      "Pruning 137 examples with label issues ...\n",
      "Remaining clean data has 223 examples.\n",
      "Assigning sample weights for final training based on estimated label quality.\n",
      "Fitting final model on the clean data ...\n",
      "Computing out of sample predicted probabilites via 5-fold cross validation. May take a while ...\n",
      "Using predicted probabilities to identify label issues ...\n"
     ]
    },
    {
     "name": "stdout",
     "output_type": "stream",
     "text": [
      "Identified 141 examples with label issues.\n",
      "Pruning 141 examples with label issues ...\n",
      "Remaining clean data has 219 examples.\n",
      "Assigning sample weights for final training based on estimated label quality.\n",
      "Fitting final model on the clean data ...\n",
      "Computing out of sample predicted probabilites via 5-fold cross validation. May take a while ...\n",
      "Using predicted probabilities to identify label issues ...\n"
     ]
    },
    {
     "name": "stdout",
     "output_type": "stream",
     "text": [
      "Identified 135 examples with label issues.\n",
      "Pruning 135 examples with label issues ...\n",
      "Remaining clean data has 225 examples.\n",
      "Assigning sample weights for final training based on estimated label quality.\n",
      "Fitting final model on the clean data ...\n",
      "Computing out of sample predicted probabilites via 5-fold cross validation. May take a while ...\n",
      "Using predicted probabilities to identify label issues ...\n"
     ]
    },
    {
     "name": "stdout",
     "output_type": "stream",
     "text": [
      "Identified 137 examples with label issues.\n",
      "Pruning 137 examples with label issues ...\n",
      "Remaining clean data has 223 examples.\n",
      "Assigning sample weights for final training based on estimated label quality.\n",
      "Fitting final model on the clean data ...\n",
      "Computing out of sample predicted probabilites via 5-fold cross validation. May take a while ...\n",
      "Using predicted probabilities to identify label issues ...\n"
     ]
    },
    {
     "name": "stdout",
     "output_type": "stream",
     "text": [
      "Identified 161 examples with label issues.\n",
      "Pruning 161 examples with label issues ...\n",
      "Remaining clean data has 199 examples.\n",
      "Assigning sample weights for final training based on estimated label quality.\n",
      "Fitting final model on the clean data ...\n",
      "Computing out of sample predicted probabilites via 5-fold cross validation. May take a while ...\n",
      "Using predicted probabilities to identify label issues ...\n"
     ]
    },
    {
     "name": "stdout",
     "output_type": "stream",
     "text": [
      "Identified 147 examples with label issues.\n",
      "Pruning 147 examples with label issues ...\n",
      "Remaining clean data has 213 examples.\n",
      "Assigning sample weights for final training based on estimated label quality.\n",
      "Fitting final model on the clean data ...\n",
      "Computing out of sample predicted probabilites via 5-fold cross validation. May take a while ...\n",
      "Using predicted probabilities to identify label issues ...\n"
     ]
    },
    {
     "name": "stdout",
     "output_type": "stream",
     "text": [
      "Identified 155 examples with label issues.\n",
      "Pruning 155 examples with label issues ...\n",
      "Remaining clean data has 205 examples.\n",
      "Assigning sample weights for final training based on estimated label quality.\n",
      "Fitting final model on the clean data ...\n",
      "Computing out of sample predicted probabilites via 5-fold cross validation. May take a while ...\n",
      "Using predicted probabilities to identify label issues ...\n"
     ]
    },
    {
     "name": "stdout",
     "output_type": "stream",
     "text": [
      "Identified 154 examples with label issues.\n",
      "Pruning 154 examples with label issues ...\n",
      "Remaining clean data has 206 examples.\n",
      "Assigning sample weights for final training based on estimated label quality.\n",
      "Fitting final model on the clean data ...\n",
      "Computing out of sample predicted probabilites via 5-fold cross validation. May take a while ...\n",
      "Using predicted probabilities to identify label issues ...\n"
     ]
    },
    {
     "name": "stdout",
     "output_type": "stream",
     "text": [
      "Identified 154 examples with label issues.\n",
      "Pruning 154 examples with label issues ...\n",
      "Remaining clean data has 206 examples.\n",
      "Assigning sample weights for final training based on estimated label quality.\n",
      "Fitting final model on the clean data ...\n",
      "Computing out of sample predicted probabilites via 5-fold cross validation. May take a while ...\n",
      "Using predicted probabilities to identify label issues ...\n"
     ]
    },
    {
     "name": "stdout",
     "output_type": "stream",
     "text": [
      "Identified 128 examples with label issues.\n",
      "Pruning 128 examples with label issues ...\n",
      "Remaining clean data has 232 examples.\n",
      "Assigning sample weights for final training based on estimated label quality.\n",
      "Fitting final model on the clean data ...\n",
      "Computing out of sample predicted probabilites via 5-fold cross validation. May take a while ...\n",
      "Using predicted probabilities to identify label issues ...\n"
     ]
    },
    {
     "name": "stdout",
     "output_type": "stream",
     "text": [
      "Identified 134 examples with label issues.\n",
      "Pruning 134 examples with label issues ...\n",
      "Remaining clean data has 226 examples.\n",
      "Assigning sample weights for final training based on estimated label quality.\n",
      "Fitting final model on the clean data ...\n",
      "Computing out of sample predicted probabilites via 5-fold cross validation. May take a while ...\n",
      "Using predicted probabilities to identify label issues ...\n"
     ]
    },
    {
     "name": "stdout",
     "output_type": "stream",
     "text": [
      "Identified 134 examples with label issues.\n",
      "Pruning 134 examples with label issues ...\n",
      "Remaining clean data has 226 examples.\n",
      "Assigning sample weights for final training based on estimated label quality.\n",
      "Fitting final model on the clean data ...\n",
      "Computing out of sample predicted probabilites via 5-fold cross validation. May take a while ...\n",
      "Using predicted probabilities to identify label issues ...\n"
     ]
    },
    {
     "name": "stdout",
     "output_type": "stream",
     "text": [
      "Identified 128 examples with label issues.\n",
      "Pruning 128 examples with label issues ...\n",
      "Remaining clean data has 232 examples.\n",
      "Assigning sample weights for final training based on estimated label quality.\n",
      "Fitting final model on the clean data ...\n",
      "Computing out of sample predicted probabilites via 5-fold cross validation. May take a while ...\n",
      "Using predicted probabilities to identify label issues ...\n"
     ]
    },
    {
     "name": "stdout",
     "output_type": "stream",
     "text": [
      "Identified 128 examples with label issues.\n",
      "Pruning 128 examples with label issues ...\n",
      "Remaining clean data has 232 examples.\n",
      "Assigning sample weights for final training based on estimated label quality.\n",
      "Fitting final model on the clean data ...\n",
      "Computing out of sample predicted probabilites via 5-fold cross validation. May take a while ...\n",
      "Using predicted probabilities to identify label issues ...\n"
     ]
    },
    {
     "name": "stdout",
     "output_type": "stream",
     "text": [
      "Identified 133 examples with label issues.\n",
      "Pruning 133 examples with label issues ...\n",
      "Remaining clean data has 227 examples.\n",
      "Assigning sample weights for final training based on estimated label quality.\n",
      "Fitting final model on the clean data ...\n",
      "Computing out of sample predicted probabilites via 5-fold cross validation. May take a while ...\n",
      "Using predicted probabilities to identify label issues ...\n"
     ]
    },
    {
     "name": "stdout",
     "output_type": "stream",
     "text": [
      "Identified 139 examples with label issues.\n",
      "Pruning 139 examples with label issues ...\n",
      "Remaining clean data has 221 examples.\n",
      "Assigning sample weights for final training based on estimated label quality.\n",
      "Fitting final model on the clean data ...\n",
      "Computing out of sample predicted probabilites via 5-fold cross validation. May take a while ...\n",
      "Using predicted probabilities to identify label issues ...\n"
     ]
    },
    {
     "name": "stdout",
     "output_type": "stream",
     "text": [
      "Identified 145 examples with label issues.\n",
      "Pruning 145 examples with label issues ...\n",
      "Remaining clean data has 215 examples.\n",
      "Assigning sample weights for final training based on estimated label quality.\n",
      "Fitting final model on the clean data ...\n",
      "Computing out of sample predicted probabilites via 5-fold cross validation. May take a while ...\n",
      "Using predicted probabilities to identify label issues ...\n"
     ]
    },
    {
     "name": "stdout",
     "output_type": "stream",
     "text": [
      "Identified 136 examples with label issues.\n",
      "Pruning 136 examples with label issues ...\n",
      "Remaining clean data has 224 examples.\n",
      "Assigning sample weights for final training based on estimated label quality.\n",
      "Fitting final model on the clean data ...\n",
      "Computing out of sample predicted probabilites via 5-fold cross validation. May take a while ...\n",
      "Using predicted probabilities to identify label issues ...\n"
     ]
    },
    {
     "name": "stdout",
     "output_type": "stream",
     "text": [
      "Identified 136 examples with label issues.\n",
      "Pruning 136 examples with label issues ...\n",
      "Remaining clean data has 224 examples.\n",
      "Assigning sample weights for final training based on estimated label quality.\n",
      "Fitting final model on the clean data ...\n",
      "Computing out of sample predicted probabilites via 5-fold cross validation. May take a while ...\n",
      "Using predicted probabilities to identify label issues ...\n"
     ]
    },
    {
     "name": "stdout",
     "output_type": "stream",
     "text": [
      "Identified 163 examples with label issues.\n",
      "Pruning 163 examples with label issues ...\n",
      "Remaining clean data has 197 examples.\n",
      "Assigning sample weights for final training based on estimated label quality.\n",
      "Fitting final model on the clean data ...\n",
      "Computing out of sample predicted probabilites via 5-fold cross validation. May take a while ...\n",
      "Using predicted probabilities to identify label issues ...\n"
     ]
    },
    {
     "name": "stdout",
     "output_type": "stream",
     "text": [
      "Identified 154 examples with label issues.\n",
      "Pruning 154 examples with label issues ...\n",
      "Remaining clean data has 206 examples.\n",
      "Assigning sample weights for final training based on estimated label quality.\n",
      "Fitting final model on the clean data ...\n",
      "Computing out of sample predicted probabilites via 5-fold cross validation. May take a while ...\n",
      "Using predicted probabilities to identify label issues ...\n"
     ]
    },
    {
     "name": "stdout",
     "output_type": "stream",
     "text": [
      "Identified 162 examples with label issues.\n",
      "Pruning 162 examples with label issues ...\n",
      "Remaining clean data has 198 examples.\n",
      "Assigning sample weights for final training based on estimated label quality.\n",
      "Fitting final model on the clean data ...\n",
      "Computing out of sample predicted probabilites via 5-fold cross validation. May take a while ...\n",
      "Using predicted probabilities to identify label issues ...\n"
     ]
    },
    {
     "name": "stdout",
     "output_type": "stream",
     "text": [
      "Identified 160 examples with label issues.\n",
      "Pruning 160 examples with label issues ...\n",
      "Remaining clean data has 200 examples.\n",
      "Assigning sample weights for final training based on estimated label quality.\n",
      "Fitting final model on the clean data ...\n",
      "Computing out of sample predicted probabilites via 5-fold cross validation. May take a while ...\n",
      "Using predicted probabilities to identify label issues ...\n"
     ]
    },
    {
     "name": "stdout",
     "output_type": "stream",
     "text": [
      "Identified 152 examples with label issues.\n",
      "Pruning 152 examples with label issues ...\n",
      "Remaining clean data has 208 examples.\n",
      "Assigning sample weights for final training based on estimated label quality.\n",
      "Fitting final model on the clean data ...\n",
      "Computing out of sample predicted probabilites via 5-fold cross validation. May take a while ...\n",
      "Using predicted probabilities to identify label issues ...\n"
     ]
    },
    {
     "name": "stdout",
     "output_type": "stream",
     "text": [
      "Identified 124 examples with label issues.\n",
      "Pruning 124 examples with label issues ...\n",
      "Remaining clean data has 236 examples.\n",
      "Assigning sample weights for final training based on estimated label quality.\n",
      "Fitting final model on the clean data ...\n",
      "Computing out of sample predicted probabilites via 5-fold cross validation. May take a while ...\n",
      "Using predicted probabilities to identify label issues ...\n"
     ]
    },
    {
     "name": "stdout",
     "output_type": "stream",
     "text": [
      "Identified 124 examples with label issues.\n",
      "Pruning 124 examples with label issues ...\n",
      "Remaining clean data has 236 examples.\n",
      "Assigning sample weights for final training based on estimated label quality.\n",
      "Fitting final model on the clean data ...\n",
      "Computing out of sample predicted probabilites via 5-fold cross validation. May take a while ...\n",
      "Using predicted probabilities to identify label issues ...\n"
     ]
    },
    {
     "name": "stdout",
     "output_type": "stream",
     "text": [
      "Identified 124 examples with label issues.\n",
      "Pruning 124 examples with label issues ...\n",
      "Remaining clean data has 236 examples.\n",
      "Assigning sample weights for final training based on estimated label quality.\n",
      "Fitting final model on the clean data ...\n",
      "Computing out of sample predicted probabilites via 5-fold cross validation. May take a while ...\n",
      "Using predicted probabilities to identify label issues ...\n"
     ]
    },
    {
     "name": "stdout",
     "output_type": "stream",
     "text": [
      "Identified 128 examples with label issues.\n",
      "Pruning 128 examples with label issues ...\n",
      "Remaining clean data has 232 examples.\n",
      "Assigning sample weights for final training based on estimated label quality.\n",
      "Fitting final model on the clean data ...\n",
      "Computing out of sample predicted probabilites via 5-fold cross validation. May take a while ...\n",
      "Using predicted probabilities to identify label issues ...\n"
     ]
    },
    {
     "name": "stdout",
     "output_type": "stream",
     "text": [
      "Identified 122 examples with label issues.\n",
      "Pruning 122 examples with label issues ...\n",
      "Remaining clean data has 238 examples.\n",
      "Assigning sample weights for final training based on estimated label quality.\n",
      "Fitting final model on the clean data ...\n",
      "Computing out of sample predicted probabilites via 5-fold cross validation. May take a while ...\n",
      "Using predicted probabilities to identify label issues ...\n"
     ]
    },
    {
     "name": "stdout",
     "output_type": "stream",
     "text": [
      "Identified 172 examples with label issues.\n",
      "Pruning 172 examples with label issues ...\n",
      "Remaining clean data has 278 examples.\n",
      "Assigning sample weights for final training based on estimated label quality.\n",
      "Fitting final model on the clean data ...\n",
      "Accuracy with default parameters: 0.65\n",
      "Accuracy with optimized parameters: 0.71\n",
      "\n",
      "Optimal parameter settings using Logistic Regression\n",
      "----------------------------------------------------\n",
      "cv : None\n",
      "error_score : nan\n",
      "estimator__clf__C : 1.0\n",
      "estimator__clf__class_weight : None\n",
      "estimator__clf__dual : False\n",
      "estimator__clf__fit_intercept : True\n",
      "estimator__clf__intercept_scaling : 1\n",
      "estimator__clf__l1_ratio : None\n",
      "estimator__clf__max_iter : 100\n",
      "estimator__clf__multi_class : auto\n",
      "estimator__clf__n_jobs : None\n",
      "estimator__clf__penalty : l2\n",
      "estimator__clf__random_state : 0\n",
      "estimator__clf__solver : lbfgs\n",
      "estimator__clf__tol : 0.0001\n",
      "estimator__clf__verbose : 0\n",
      "estimator__clf__warm_start : False\n",
      "estimator__clf : LogisticRegression(random_state=0)\n",
      "estimator__converge_latent_estimates : False\n",
      "estimator__cv_n_folds : 5\n",
      "estimator__find_label_issues_kwargs : {}\n",
      "estimator__pulearning : None\n",
      "estimator__seed : None\n",
      "estimator__verbose : True\n",
      "estimator : CleanLearning(clf=LogisticRegression(random_state=0))\n",
      "n_jobs : None\n",
      "param_grid : {'find_label_issues_kwargs': [{'filter_by': 'prune_by_noise_rate'}, {'filter_by': 'prune_by_class'}, {'filter_by': 'both'}], 'converge_latent_estimates': [True, False]}\n",
      "pre_dispatch : 2*n_jobs\n",
      "refit : True\n",
      "return_train_score : False\n",
      "scoring : None\n",
      "verbose : 0\n"
     ]
    }
   ],
   "source": [
    "for name, clf in [\n",
    "    (\n",
    "        \"Naive Bayes\",\n",
    "        GaussianNB(),\n",
    "    ),\n",
    "    (\n",
    "        \"Logistic Regression\",\n",
    "        LogisticRegression(random_state=0, solver=\"lbfgs\", multi_class=\"auto\"),\n",
    "    ),\n",
    "]:\n",
    "    print(\"\\n\", \"=\" * len(name), \"\\n\", name, \"\\n\", \"=\" * len(name))\n",
    "    np.random.seed(seed=0)\n",
    "    clf_copy = copy.deepcopy(clf)\n",
    "    # Compute p(y=k), the ground truth class prior on the labels.\n",
    "    py = np.bincount(y_train) / float(len(y_train))\n",
    "    # Generate the noisy channel to characterize the label errors.\n",
    "    noise_matrix = generate_noise_matrix_from_trace(\n",
    "        K=num_classes,\n",
    "        trace=num_classes * avg_trace,\n",
    "        py=py,\n",
    "        frac_zero_noise_rates=frac_zero_noise_rates,\n",
    "    )\n",
    "    print_noise_matrix(noise_matrix)\n",
    "\n",
    "    # Create the noisy labels. This method is exact w.r.t. the noise_matrix.\n",
    "    y_train_with_errors = generate_noisy_labels(y_train, noise_matrix)\n",
    "\n",
    "    # Run GridSearch with Cross-Validation\n",
    "    lnl_cv = GridSearchCV(\n",
    "        estimator=CleanLearning(clf),\n",
    "        param_grid=param_grid,\n",
    "    )\n",
    "    lnl_cv.fit(X=X_train, y=y_train_with_errors)\n",
    "\n",
    "    # Also compute the test score with default parameters\n",
    "    clf_copy.fit(X_train, y_train_with_errors)\n",
    "    score_opt = lnl_cv.score(X_test, y_test)\n",
    "    score_default = clf_copy.score(X_test, y_test)\n",
    "    print(\"Accuracy with default parameters:\", np.round(score_default, 2))\n",
    "    print(\"Accuracy with optimized parameters:\", np.round(score_opt, 2))\n",
    "    print()\n",
    "    s = \"Optimal parameter settings using {}\".format(name)\n",
    "    print(s)\n",
    "    print(\"-\" * len(s))\n",
    "    for key in lnl_cv.get_params().keys():\n",
    "        print(key, \":\", lnl_cv.get_params()[key])\n"
   ]
  },
  {
   "cell_type": "code",
   "execution_count": null,
   "id": "958bcb1b-7742-4d58-be8d-725756a17fea",
   "metadata": {
    "papermill": {
     "duration": 0.008099,
     "end_time": "2022-04-13T21:24:23.915873",
     "exception": false,
     "start_time": "2022-04-13T21:24:23.907774",
     "status": "completed"
    },
    "tags": []
   },
   "outputs": [],
   "source": []
  }
 ],
 "metadata": {
  "kernelspec": {
   "display_name": "Python 3 (ipykernel)",
   "language": "python",
   "name": "python3"
  },
  "language_info": {
   "codemirror_mode": {
    "name": "ipython",
    "version": 3
   },
   "file_extension": ".py",
   "mimetype": "text/x-python",
   "name": "python",
   "nbconvert_exporter": "python",
   "pygments_lexer": "ipython3",
   "version": "3.8.10"
  },
  "papermill": {
   "default_parameters": {},
   "duration": 14.049381,
   "end_time": "2022-04-13T21:24:24.242612",
   "environment_variables": {},
   "exception": null,
   "input_path": "./model_selection_demo.ipynb",
   "output_path": "./model_selection_demo.ipynb",
   "parameters": {},
   "start_time": "2022-04-13T21:24:10.193231",
   "version": "2.3.4"
  }
 },
 "nbformat": 4,
 "nbformat_minor": 5
}