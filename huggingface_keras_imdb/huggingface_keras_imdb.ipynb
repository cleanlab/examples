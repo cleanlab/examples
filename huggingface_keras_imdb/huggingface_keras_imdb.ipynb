{
 "cells": [
  {
   "cell_type": "markdown",
   "id": "5de38601",
   "metadata": {},
   "source": [
    "# Finding Label Errors in IMDB Reviews Dataset using Keras and HuggingFace Model"
   ]
  },
  {
   "cell_type": "markdown",
   "id": "a3c996fb",
   "metadata": {},
   "source": [
    "This example demonstrates the use of a cleanlab-compatible Keras classifier (and pretrained bert models from HuggingFace) to find issues in the IMBD Reviews Dataset and train an improved classifier model using `cleanlab`'s CleanLearning. "
   ]
  },
  {
   "cell_type": "code",
   "execution_count": 1,
   "id": "e4a75294",
   "metadata": {},
   "outputs": [],
   "source": [
    "import numpy as np\n",
    "import tensorflow as tf\n",
    "import tensorflow_datasets as tfds\n",
    "from transformers import AutoTokenizer, TFAutoModel\n",
    "from transformers import logging\n",
    "from sklearn.metrics import accuracy_score\n",
    "import os\n",
    "\n",
    "from cleanlab.experimental.keras import KerasWrapperModel\n",
    "from cleanlab.classification import CleanLearning\n",
    "\n",
    "logging.set_verbosity(40)\n",
    "os.environ['TOKENIZERS_PARALLELISM']='false'"
   ]
  },
  {
   "cell_type": "markdown",
   "id": "9b510fd7",
   "metadata": {},
   "source": [
    "## Importing and pre-processing the IMDB Reviews Dataset"
   ]
  },
  {
   "cell_type": "markdown",
   "id": "477314ec",
   "metadata": {},
   "source": [
    "Here we load the IMDB reviews datasets and use a pretrained bert model to tokenize the text."
   ]
  },
  {
   "cell_type": "code",
   "execution_count": 2,
   "id": "08d17b64",
   "metadata": {},
   "outputs": [],
   "source": [
    "train = tfds.load('imdb_reviews', split='train', shuffle_files=True)\n",
    "val = tfds.load('imdb_reviews', split='test', shuffle_files=True)"
   ]
  },
  {
   "cell_type": "code",
   "execution_count": null,
   "id": "d2116803",
   "metadata": {},
   "outputs": [],
   "source": [
    "# using only the first 1000 datapoints to reduce execution time\n",
    "\n",
    "train_df = tfds.as_dataframe(train)[:1000].copy()\n",
    "train_df['text'] = train_df['text'].apply(lambda x: x.decode('utf-8'))\n",
    "\n",
    "val_df = tfds.as_dataframe(val)[:1000].copy()\n",
    "val_df['text'] = val_df['text'].apply(lambda x: x.decode('utf-8'))"
   ]
  },
  {
   "cell_type": "code",
   "execution_count": 4,
   "id": "40dbe865",
   "metadata": {},
   "outputs": [],
   "source": [
    "MODEL_NAME = \"bert-base-uncased\"\n",
    "tokenizer = AutoTokenizer.from_pretrained(MODEL_NAME)\n",
    "\n",
    "train_input = tokenizer(\n",
    "    train_df[\"text\"].to_list(),\n",
    "    padding=\"max_length\",\n",
    "    truncation=True,\n",
    "    max_length=50,\n",
    "    return_tensors=\"tf\",\n",
    ")\n",
    "\n",
    "val_input = tokenizer(\n",
    "    val_df[\"text\"].to_list(),\n",
    "    padding=\"max_length\",\n",
    "    truncation=True,\n",
    "    max_length=50,\n",
    "    return_tensors=\"tf\",\n",
    ")"
   ]
  },
  {
   "cell_type": "markdown",
   "id": "33a7cb6d",
   "metadata": {},
   "source": [
    "## Define Keras Model and inputs "
   ]
  },
  {
   "cell_type": "markdown",
   "id": "c42959fb",
   "metadata": {},
   "source": [
    "Here we specify the function used to build the Keras Model, which will be passed as an argument to the `KerasWrapperModel` class."
   ]
  },
  {
   "cell_type": "code",
   "execution_count": 5,
   "id": "ace9302e",
   "metadata": {},
   "outputs": [],
   "source": [
    "def build_model(model_name:str, max_len:int, n_classes:int):\n",
    "    # define input ids, token type ids and attention mask as inputs to NN\n",
    "    input_ids = tf.keras.layers.Input(\n",
    "        shape=(max_len,), dtype='int32', name='input_ids')\n",
    "    \n",
    "    token_type_ids = tf.keras.layers.Input(\n",
    "        shape=(max_len,), dtype='int32', name='token_type_ids')\n",
    "\n",
    "    attention_mask = tf.keras.layers.Input(\n",
    "        shape=(max_len,), dtype='int32', name='attention_mask')\n",
    "\n",
    "    # get bert main layer and add it to the NN, passing in inputs\n",
    "    bert_layer = TFAutoModel.from_pretrained(model_name)\n",
    "    layer = bert_layer(input_ids=input_ids, token_type_ids=token_type_ids, attention_mask=attention_mask)[1]\n",
    "    output_layer = tf.keras.layers.Dense(n_classes, activation='sigmoid')(layer)\n",
    "\n",
    "    # model instance\n",
    "    model = tf.keras.Model(inputs=[input_ids, token_type_ids, attention_mask], outputs=output_layer)\n",
    "    model.summary()\n",
    "    return model"
   ]
  },
  {
   "cell_type": "markdown",
   "id": "e6f9ff69",
   "metadata": {},
   "source": [
    "Format the input into appropriate tensorflow datasets to pass into Keras classifier."
   ]
  },
  {
   "cell_type": "code",
   "execution_count": 6,
   "id": "9cdc69ed",
   "metadata": {},
   "outputs": [],
   "source": [
    "train_dataset = tf.data.Dataset.from_tensor_slices((dict(train_input), np.array(train_df['label']))).batch(64)\n",
    "val_dataset = tf.data.Dataset.from_tensor_slices((dict(val_input), np.array(val_df['label']))).batch(64)\n",
    "\n",
    "train_labels = np.array(train_df['label']) # to pass into cl.fit as y input"
   ]
  },
  {
   "cell_type": "markdown",
   "id": "b0d8c914",
   "metadata": {},
   "source": [
    "Define Keras model using `KerasWrapperModel` which is compatible with `CleanLearning`."
   ]
  },
  {
   "cell_type": "code",
   "execution_count": 7,
   "id": "1520dcbf",
   "metadata": {},
   "outputs": [],
   "source": [
    "model = KerasWrapperModel(\n",
    "    model=build_model,\n",
    "    model_kwargs={\n",
    "        \"model_name\": MODEL_NAME,\n",
    "        \"max_len\": 50,\n",
    "        \"n_classes\": 2,\n",
    "    },\n",
    "    compile_kwargs= {\n",
    "      \"optimizer\":tf.keras.optimizers.Adam(2e-5),\n",
    "      \"loss\":tf.keras.losses.SparseCategoricalCrossentropy(),\n",
    "      \"metrics\":[\"accuracy\"],\n",
    "    },\n",
    ")\n",
    "\n",
    "early_stopping = tf.keras.callbacks.EarlyStopping(\n",
    "        monitor='val_accuracy', mode='max', verbose=1, patience=3, restore_best_weights=True)"
   ]
  },
  {
   "cell_type": "markdown",
   "id": "9ed85002",
   "metadata": {},
   "source": [
    "## Use CleanLearning to find label issues and train improved classifier"
   ]
  },
  {
   "cell_type": "markdown",
   "id": "8ee8fca5",
   "metadata": {},
   "source": [
    "Lastly, we train the model using CleanLearning and view it's performance:"
   ]
  },
  {
   "cell_type": "code",
   "execution_count": null,
   "id": "3c50489d",
   "metadata": {
    "scrolled": false
   },
   "outputs": [],
   "source": [
    "cl = CleanLearning(clf=model, cv_n_folds=3, verbose=True)\n",
    "\n",
    "cl.fit(\n",
    "    train_dataset,\n",
    "    train_labels,\n",
    "    clf_kwargs={\n",
    "        \"validation_data\": val_dataset,\n",
    "        \"epochs\": 10,\n",
    "        \"shuffle\": True,\n",
    "        \"callbacks\": [early_stopping],\n",
    "        \"verbose\": True,\n",
    "    },\n",
    ")       "
   ]
  },
  {
   "cell_type": "code",
   "execution_count": 9,
   "id": "308cbc3f",
   "metadata": {},
   "outputs": [
    {
     "name": "stdout",
     "output_type": "stream",
     "text": [
      "16/16 [==============================] - 28s 2s/step\n",
      "Accuracy on val data:  0.764\n"
     ]
    }
   ],
   "source": [
    "predictions = cl.predict(val_dataset)\n",
    "print('Accuracy on val data: ', accuracy_score(val_df['label'], predictions))"
   ]
  }
 ],
 "metadata": {
  "kernelspec": {
   "display_name": "Python 3 (ipykernel)",
   "language": "python",
   "name": "python3"
  },
  "language_info": {
   "codemirror_mode": {
    "name": "ipython",
    "version": 3
   },
   "file_extension": ".py",
   "mimetype": "text/x-python",
   "name": "python",
   "nbconvert_exporter": "python",
   "pygments_lexer": "ipython3",
   "version": "3.9.13"
  },
  "vscode": {
   "interpreter": {
    "hash": "00885e89789f58e60dbba52a405dc834aaf92411914fde0d391f9b48289a0610"
   }
  }
 },
 "nbformat": 4,
 "nbformat_minor": 5
}
